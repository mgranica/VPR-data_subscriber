{
 "cells": [
  {
   "cell_type": "code",
   "execution_count": 7,
   "metadata": {
    "vscode": {
     "languageId": "python_glue_session"
    }
   },
   "outputs": [
    {
     "name": "stdout",
     "output_type": "stream",
     "text": [
      "Welcome to the Glue Interactive Sessions Kernel\n",
      "For more information on available magic commands, please type %help in any new cell.\n",
      "\n",
      "Please view our Getting Started page to access the most up-to-date information on the Interactive Sessions kernel: https://docs.aws.amazon.com/glue/latest/dg/interactive-sessions.html\n",
      "It looks like there is a newer version of the kernel available. The latest version is 1.0.6 and you have 1.0.4 installed.\n",
      "Please run `pip install --upgrade aws-glue-sessions` to upgrade your kernel\n",
      "Previous session type: etl\n",
      "Setting new session type to Streaming\n",
      "Current iam_role is None\n",
      "iam_role has been set to arn:aws:iam::290620955947:role/LabRole.\n",
      "Previous region: None\n",
      "Setting new region to: us-east-1\n",
      "Region is set to: us-east-1\n",
      "Previous number of workers: None\n",
      "Setting new number of workers to: 2\n",
      "Current idle_timeout is None minutes.\n",
      "idle_timeout has been set to 60 minutes.\n",
      "The following configurations have been updated: {'--conf': 'spark.sql.extensions=io.delta.sql.DeltaSparkSessionExtension --conf spark.sql.catalog.spark_catalog=org.apache.spark.sql.delta.catalog.DeltaCatalog', '--datalake-formats': 'delta'}\n"
     ]
    }
   ],
   "source": [
    "%streaming\n",
    "%iam_role arn:aws:iam::290620955947:role/LabRole\n",
    "%region us-east-1\n",
    "%number_of_workers 2\n",
    "%idle_timeout 60\n",
    "%%configure \n",
    "{\n",
    "  \"--conf\": \"spark.sql.extensions=io.delta.sql.DeltaSparkSessionExtension --conf spark.sql.catalog.spark_catalog=org.apache.spark.sql.delta.catalog.DeltaCatalog\",\n",
    "  \"--datalake-formats\": \"delta\"\n",
    "}"
   ]
  },
  {
   "cell_type": "code",
   "execution_count": 1,
   "metadata": {
    "vscode": {
     "languageId": "python_glue_session"
    }
   },
   "outputs": [
    {
     "name": "stdout",
     "output_type": "stream",
     "text": [
      "Trying to create a Glue session for the kernel.\n",
      "Session Type: streaming\n",
      "Worker Type: G.1X\n",
      "Number of Workers: 2\n",
      "Session ID: 40e8e33d-1868-40fd-b1e3-558da6c1da49\n",
      "Applying the following default arguments:\n",
      "--glue_kernel_version 1.0.4\n",
      "--enable-glue-datacatalog true\n",
      "--conf spark.sql.extensions=io.delta.sql.DeltaSparkSessionExtension --conf spark.sql.catalog.spark_catalog=org.apache.spark.sql.delta.catalog.DeltaCatalog\n",
      "--datalake-formats delta\n",
      "Waiting for session 40e8e33d-1868-40fd-b1e3-558da6c1da49 to get into ready status...\n",
      "Session 40e8e33d-1868-40fd-b1e3-558da6c1da49 has been created.\n",
      "<pyspark.sql.session.SparkSession object at 0x7fc71955bb80>\n"
     ]
    }
   ],
   "source": [
    "spark"
   ]
  },
  {
   "cell_type": "markdown",
   "metadata": {},
   "source": [
    "# 1. Environment Configuration"
   ]
  },
  {
   "cell_type": "markdown",
   "metadata": {},
   "source": [
    "## 1.1 Import dependencies"
   ]
  },
  {
   "cell_type": "code",
   "execution_count": 2,
   "metadata": {
    "vscode": {
     "languageId": "python_glue_session"
    }
   },
   "outputs": [
    {
     "name": "stdout",
     "output_type": "stream",
     "text": [
      "\n"
     ]
    }
   ],
   "source": [
    "import boto3\n",
    "import json\n",
    "import os\n",
    "from uuid import uuid4\n",
    "from datetime import datetime\n",
    "from datetime import timedelta\n",
    "from delta.tables import DeltaTable\n",
    "import time\n",
    "\n",
    "import pyspark.sql.types as t\n",
    "import pyspark.sql.functions as f"
   ]
  },
  {
   "cell_type": "markdown",
   "metadata": {},
   "source": [
    "## 1.2 Constants Variables"
   ]
  },
  {
   "cell_type": "code",
   "execution_count": 3,
   "metadata": {
    "vscode": {
     "languageId": "python_glue_session"
    }
   },
   "outputs": [
    {
     "name": "stdout",
     "output_type": "stream",
     "text": [
      "\n"
     ]
    }
   ],
   "source": [
    "BUCKET_NAME = \"vproptimiserplatform\"\n",
    "ORDERS = \"orders\"\n",
    "STREAM_NAME = \"orders_stream\"\n",
    "\n",
    "BRONZE = \"bronze\"\n",
    "SILVER = \"silver\"\n",
    "GOLD = \"gold\"\n",
    "DELTA = \"delta\"\n",
    "\n",
    "PROCESSING_TRIGGER = \"5 seconds\"\n",
    "\n",
    "## Append Checkpoints \n",
    "EVENTS_CHECKPOINT_LOCATION = f\"s3a://{BUCKET_NAME}/{ORDERS}/{DELTA}/checkpoints/events\"\n",
    "ORDERS_CHECKPOINT_LOCATION = f\"s3a://{BUCKET_NAME}/{ORDERS}/{DELTA}/checkpoints/orders\"\n",
    "ORDERS_ITEMS_CHECKPOINT_LOCATION = f\"s3a://{BUCKET_NAME}/{ORDERS}/{DELTA}/checkpoints/orders_items\"\n",
    "\n",
    "## Update Checkpoints\n",
    "EVENTS_UPDATE_CHECKPOINT_LOCATION = f\"s3a://{BUCKET_NAME}/{ORDERS}/{DELTA}/checkpoints/events_update\"\n",
    "ORDERS_UPDATE_CHECKPOINT_LOCATION = f\"s3a://{BUCKET_NAME}/{ORDERS}/{DELTA}/checkpoints/orders_update\"\n",
    "ORDERS_ITEMS_UPDATE_CHECKPOINT_LOCATION = f\"s3a://{BUCKET_NAME}/{ORDERS}/{DELTA}/checkpoints/orders_items_update\"\n",
    "PRODUCTS_CHECKPOINT_LOCATION = f\"s3a://{BUCKET_NAME}/{ORDERS}/{DELTA}/checkpoints/inventory_update\"\n",
    "\n",
    "## paths\n",
    "EVENTS = \"events\"\n",
    "ORDERS = \"orders\"\n",
    "ORDERS_ITEMS = \"orders_items\"\n",
    "PRODUCTS = \"products_table\"\n",
    "\n",
    "# TODO TBC medallion architecture??\n",
    "EVENTS_PATH = f\"s3a://{BUCKET_NAME}/{ORDERS}/{DELTA}/{BRONZE}/{EVENTS}\"\n",
    "ORDERS_PATH = f\"s3a://{BUCKET_NAME}/{ORDERS}/{DELTA}/{BRONZE}/{ORDERS}\"\n",
    "ORDERS_ITEMS_PATH = f\"s3a://{BUCKET_NAME}/{ORDERS}/{DELTA}/{BRONZE}/{ORDERS_ITEMS}\"\n",
    "PRODUCTS_PATH = f\"s3a://{BUCKET_NAME}/{ORDERS}/{GOLD}/{PRODUCTS}\"\n",
    "\n",
    "## Tables\n",
    "EVENTS_TABLE = f\"{EVENTS}_table\"\n",
    "ORDERS_TABLE = f\"{ORDERS}_table\"\n",
    "ORDERS_ITEMS_TABLE = f\"{ORDERS_ITEMS}_table\""
   ]
  },
  {
   "cell_type": "code",
   "execution_count": 4,
   "metadata": {
    "vscode": {
     "languageId": "python_glue_session"
    }
   },
   "outputs": [
    {
     "name": "stdout",
     "output_type": "stream",
     "text": [
      "\n"
     ]
    }
   ],
   "source": [
    "def stop_all_streams(spark):\n",
    "    \"\"\"\n",
    "    Stops all active structured streams in the given Spark session.\n",
    "    \n",
    "    Parameters:\n",
    "    spark (SparkSession): The Spark session with active structured streams.\n",
    "    \n",
    "    Returns:\n",
    "    None\n",
    "    \"\"\"\n",
    "    # Get the list of active streams\n",
    "    active_streams = spark.streams.active\n",
    "    \n",
    "    # Stop each active stream\n",
    "    for stream in active_streams:\n",
    "        stream.stop()\n",
    "    \n",
    "    # Optionally, print a message confirming that all streams have been stopped\n",
    "    print(f\"Stopped {len(active_streams)} active stream(s).\")"
   ]
  },
  {
   "cell_type": "code",
   "execution_count": 2,
   "metadata": {},
   "outputs": [
    {
     "ename": "NameError",
     "evalue": "name 'stop_all_streams' is not defined",
     "output_type": "error",
     "traceback": [
      "\u001b[0;31m---------------------------------------------------------------------------\u001b[0m",
      "\u001b[0;31mNameError\u001b[0m                                 Traceback (most recent call last)",
      "Cell \u001b[0;32mIn[2], line 1\u001b[0m\n\u001b[0;32m----> 1\u001b[0m \u001b[43mstop_all_streams\u001b[49m(spark)\n",
      "\u001b[0;31mNameError\u001b[0m: name 'stop_all_streams' is not defined"
     ]
    }
   ],
   "source": [
    "stop_all_streams(spark)"
   ]
  },
  {
   "cell_type": "code",
   "execution_count": 8,
   "metadata": {
    "vscode": {
     "languageId": "python_glue_session"
    }
   },
   "outputs": [],
   "source": [
    "# def drop_delta_table(PATH):\n",
    "#     try:\n",
    "#         # Assuming PATH is your Delta table path\n",
    "#         deltaTable = DeltaTable.forPath(spark, PATH)\n",
    "        \n",
    "#         # Delete the Delta table\n",
    "#         deltaTable.delete()\n",
    "        \n",
    "#         print(f\"Delta table at {PATH} successfully deleted.\")\n",
    "        \n",
    "#     except Exception as e:\n",
    "#         print(f\"Failed to delete Delta table at {PATH}. Error: {str(e)}\")\n",
    "# drop_delta_table(EVENTS_PATH)\n",
    "# drop_delta_table(ORDERS_PATH)\n",
    "# drop_delta_table(ORDERS_ITEMS_PATH)"
   ]
  },
  {
   "cell_type": "markdown",
   "metadata": {},
   "source": [
    "# 2. Orders Stream Subscriber to Kinesis"
   ]
  },
  {
   "cell_type": "markdown",
   "metadata": {},
   "source": [
    "## 2.1 Read Orders Stream"
   ]
  },
  {
   "cell_type": "code",
   "execution_count": 5,
   "metadata": {
    "vscode": {
     "languageId": "plaintext"
    }
   },
   "outputs": [
    {
     "name": "stdout",
     "output_type": "stream",
     "text": [
      "\n"
     ]
    }
   ],
   "source": [
    "schema = t.StructType([\n",
    "    t.StructField(\"event_id\", t.StringType(), True),\n",
    "    t.StructField(\"event_type\", t.StringType(), True),\n",
    "    t.StructField(\"event_timestamp\", t.TimestampType(), True),\n",
    "    t.StructField(\"order_id\", t.StringType(), True),\n",
    "    t.StructField(\"order_details\", t.StructType([\n",
    "        t.StructField(\"customer_id\", t.StringType(), True),\n",
    "        t.StructField(\"order_date\", t.DateType(), True),\n",
    "        t.StructField(\"order_timestamp\", t.TimestampType(), True),\n",
    "        t.StructField(\"items\", t.ArrayType(t.StructType([\n",
    "            t.StructField(\"product_id\", t.StringType(), True),\n",
    "            t.StructField(\"product_name\", t.StringType(), True),\n",
    "            t.StructField(\"price\", t.DoubleType(), True),\n",
    "            t.StructField(\"weight\", t.DoubleType(), True),\n",
    "            t.StructField(\"quantity\", t.IntegerType(), True),\n",
    "        ])), True),\n",
    "        t.StructField(\"total_amount\", t.DoubleType(), True),\n",
    "        t.StructField(\"total_weight\", t.DoubleType(), True),\n",
    "        t.StructField(\"status\", t.StringType(), True),\n",
    "        t.StructField(\"destination_address\", t.StructType([\n",
    "            t.StructField(\"address_id\", t.StringType(), True),\n",
    "            t.StructField(\"neighborhood\", t.StringType(), True),\n",
    "            t.StructField(\"coordinates\", t.ArrayType(t.DoubleType()), True),\n",
    "            t.StructField(\"road\", t.StringType(), True),\n",
    "            t.StructField(\"house_number\", t.StringType(), True),\n",
    "            t.StructField(\"suburb\", t.StringType(), True),\n",
    "            t.StructField(\"city_district\", t.StringType(), True),\n",
    "            t.StructField(\"state\", t.StringType(), True),\n",
    "            t.StructField(\"postcode\", t.StringType(), True),\n",
    "            t.StructField(\"country\", t.StringType(), True),\n",
    "            t.StructField(\"lat\", t.DoubleType(), True),\n",
    "            t.StructField(\"lon\", t.DoubleType(), True)\n",
    "        ]), True),\n",
    "        t.StructField(\"payment_details\", t.StructType([\n",
    "            t.StructField(\"payment_method\", t.StringType(), True),\n",
    "            t.StructField(\"payment_status\", t.StringType(), True),\n",
    "            t.StructField(\"transaction_id\", t.StringType(), True)\n",
    "        ]), True)\n",
    "    ]), True)\n",
    "])"
   ]
  },
  {
   "cell_type": "markdown",
   "metadata": {},
   "source": [
    "> startingPosition indica el punto de incio de lectura del stream, sus opciones son:\n",
    ">  * trim_horizon: primer dato del stream o el primer registro incluido en el checkpoint\n",
    ">  * latest: ignora lo previo al ultimo registro"
   ]
  },
  {
   "cell_type": "code",
   "execution_count": 30,
   "metadata": {
    "vscode": {
     "languageId": "plaintext"
    }
   },
   "outputs": [
    {
     "name": "stdout",
     "output_type": "stream",
     "text": [
      "\n"
     ]
    }
   ],
   "source": [
    "kinesis_order_stream = (\n",
    "    spark\n",
    "    .readStream\n",
    "    .format(\"kinesis\")\n",
    "    .option(\"streamName\", STREAM_NAME)\n",
    "    .option(\"startingPosition\", \"trim_horizon\")\n",
    "    # .option(\"startingPosition\", \"latest\")\n",
    "    .load()\n",
    ")"
   ]
  },
  {
   "cell_type": "code",
   "execution_count": 31,
   "metadata": {
    "vscode": {
     "languageId": "python_glue_session"
    }
   },
   "outputs": [
    {
     "name": "stdout",
     "output_type": "stream",
     "text": [
      "root\n",
      " |-- data: binary (nullable = true)\n",
      " |-- streamName: string (nullable = true)\n",
      " |-- partitionKey: string (nullable = true)\n",
      " |-- sequenceNumber: string (nullable = true)\n",
      " |-- approximateArrivalTimestamp: timestamp (nullable = true)\n"
     ]
    }
   ],
   "source": [
    "kinesis_order_stream.printSchema()"
   ]
  },
  {
   "cell_type": "code",
   "execution_count": 32,
   "metadata": {
    "vscode": {
     "languageId": "plaintext"
    }
   },
   "outputs": [
    {
     "name": "stdout",
     "output_type": "stream",
     "text": [
      "\n"
     ]
    }
   ],
   "source": [
    "df_order_stream = (\n",
    "    kinesis_order_stream\n",
    "    .withColumn(\"json_data\", f.col(\"data\").cast(\"string\"))\n",
    "    .withColumn(\"orders\", f.from_json(\"json_data\", schema))\n",
    "    .select(\"orders.*\")\n",
    ")"
   ]
  },
  {
   "cell_type": "code",
   "execution_count": 33,
   "metadata": {
    "vscode": {
     "languageId": "python_glue_session"
    }
   },
   "outputs": [
    {
     "name": "stdout",
     "output_type": "stream",
     "text": [
      "root\n",
      " |-- event_id: string (nullable = true)\n",
      " |-- event_type: string (nullable = true)\n",
      " |-- event_timestamp: timestamp (nullable = true)\n",
      " |-- order_id: string (nullable = true)\n",
      " |-- order_details: struct (nullable = true)\n",
      " |    |-- customer_id: string (nullable = true)\n",
      " |    |-- order_date: date (nullable = true)\n",
      " |    |-- order_timestamp: timestamp (nullable = true)\n",
      " |    |-- items: array (nullable = true)\n",
      " |    |    |-- element: struct (containsNull = true)\n",
      " |    |    |    |-- product_id: string (nullable = true)\n",
      " |    |    |    |-- product_name: string (nullable = true)\n",
      " |    |    |    |-- price: double (nullable = true)\n",
      " |    |    |    |-- weight: double (nullable = true)\n",
      " |    |    |    |-- quantity: integer (nullable = true)\n",
      " |    |-- total_amount: double (nullable = true)\n",
      " |    |-- total_weight: double (nullable = true)\n",
      " |    |-- status: string (nullable = true)\n",
      " |    |-- destination_address: struct (nullable = true)\n",
      " |    |    |-- address_id: string (nullable = true)\n",
      " |    |    |-- neighborhood: string (nullable = true)\n",
      " |    |    |-- coordinates: array (nullable = true)\n",
      " |    |    |    |-- element: double (containsNull = true)\n",
      " |    |    |-- road: string (nullable = true)\n",
      " |    |    |-- house_number: string (nullable = true)\n",
      " |    |    |-- suburb: string (nullable = true)\n",
      " |    |    |-- city_district: string (nullable = true)\n",
      " |    |    |-- state: string (nullable = true)\n",
      " |    |    |-- postcode: string (nullable = true)\n",
      " |    |    |-- country: string (nullable = true)\n",
      " |    |    |-- lat: double (nullable = true)\n",
      " |    |    |-- lon: double (nullable = true)\n",
      " |    |-- payment_details: struct (nullable = true)\n",
      " |    |    |-- payment_method: string (nullable = true)\n",
      " |    |    |-- payment_status: string (nullable = true)\n",
      " |    |    |-- transaction_id: string (nullable = true)\n"
     ]
    }
   ],
   "source": [
    "df_order_stream.printSchema()"
   ]
  },
  {
   "cell_type": "markdown",
   "metadata": {},
   "source": [
    "## 2.2 Write Orders Streams"
   ]
  },
  {
   "cell_type": "markdown",
   "metadata": {},
   "source": [
    "### 2.2.1 Events Stream"
   ]
  },
  {
   "cell_type": "code",
   "execution_count": 34,
   "metadata": {
    "vscode": {
     "languageId": "plaintext"
    }
   },
   "outputs": [
    {
     "name": "stdout",
     "output_type": "stream",
     "text": [
      "\n"
     ]
    }
   ],
   "source": [
    "events_stream = (\n",
    "    df_order_stream\n",
    "    .select(\n",
    "        f.col(\"event_id\"),\n",
    "        f.col(\"event_type\"),\n",
    "        f.col(\"event_timestamp\"),\n",
    "        f.col(\"order_id\")\n",
    "    )\n",
    "    .writeStream\n",
    "    .format(\"delta\")\n",
    "    .outputMode(\"append\")\n",
    "    #.trigger(processingTime=PROCESSING_TRIGGER)\n",
    "    # .trigger(availableNow=True)\n",
    "    .trigger(once=True)\n",
    "    .option(\"path\", EVENTS_PATH)\n",
    "    .option(\"checkpointLocation\", EVENTS_CHECKPOINT_LOCATION)\n",
    "    # .toTable(EVENTS_TABLE)\n",
    "    .start()\n",
    "    )"
   ]
  },
  {
   "cell_type": "code",
   "execution_count": 35,
   "metadata": {
    "vscode": {
     "languageId": "plaintext"
    }
   },
   "outputs": [
    {
     "name": "stdout",
     "output_type": "stream",
     "text": [
      "True\n"
     ]
    }
   ],
   "source": [
    "events_stream.isActive"
   ]
  },
  {
   "cell_type": "code",
   "execution_count": 36,
   "metadata": {
    "vscode": {
     "languageId": "plaintext"
    }
   },
   "outputs": [
    {
     "name": "stdout",
     "output_type": "stream",
     "text": [
      "{'message': 'Processing new data', 'isDataAvailable': True, 'isTriggerActive': True}\n"
     ]
    }
   ],
   "source": [
    "events_stream.status"
   ]
  },
  {
   "cell_type": "code",
   "execution_count": 39,
   "metadata": {
    "vscode": {
     "languageId": "plaintext"
    }
   },
   "outputs": [
    {
     "name": "stdout",
     "output_type": "stream",
     "text": [
      "{'id': 'd7eb6d90-fe48-4b1d-b9c1-87e8ddd048cd', 'runId': '1d0a0810-91a1-4ecd-9d91-b9f8872cb06a', 'name': None, 'timestamp': '2024-07-26T08:41:39.407Z', 'batchId': 8, 'numInputRows': 8, 'inputRowsPerSecond': 0.0, 'processedRowsPerSecond': 0.7508916838746011, 'durationMs': {'addBatch': 9181, 'getBatch': 4, 'getOffset': 205, 'queryPlanning': 13, 'triggerExecution': 10654, 'walCommit': 523}, 'stateOperators': [], 'sources': [{'description': 'KinesisSource[orders_stream]', 'startOffset': {'metadata': {'streamName': 'orders_stream', 'batchId': '7'}, 'shardId-000000000000': {'iteratorType': 'AFTER_SEQUENCE_NUMBER', 'iteratorPosition': '49654197460728444292469885729742852246329204371326238722'}}, 'endOffset': {'metadata': {'streamName': 'orders_stream', 'batchId': '8'}, 'shardId-000000000000': {'iteratorType': 'AFTER_SEQUENCE_NUMBER', 'iteratorPosition': '49654197460728444292469885729742852246329204371326238722'}}, 'latestOffset': {'metadata': {'streamName': 'orders_stream', 'batchId': '8'}, 'shardId-000000000000': {'iteratorType': 'AFTER_SEQUENCE_NUMBER', 'iteratorPosition': '49654197460728444292469885729742852246329204371326238722'}}, 'numInputRows': 8, 'inputRowsPerSecond': 0.0, 'processedRowsPerSecond': 0.7508916838746011}], 'sink': {'description': 'DeltaSink[s3a://vproptimiserplatform/orders/delta/bronze/events]', 'numOutputRows': -1}}\n"
     ]
    }
   ],
   "source": [
    "events_stream.lastProgress"
   ]
  },
  {
   "cell_type": "code",
   "execution_count": 40,
   "metadata": {
    "vscode": {
     "languageId": "python_glue_session"
    }
   },
   "outputs": [
    {
     "name": "stdout",
     "output_type": "stream",
     "text": [
      "+--------------------+-----------------+--------------------+--------------------+\n",
      "|            event_id|       event_type|     event_timestamp|            order_id|\n",
      "+--------------------+-----------------+--------------------+--------------------+\n",
      "|ev-5cb27318-fcc9-...|    ORDER_CREATED| 2024-07-26 08:40:45|ord-f88c3b93-4f28...|\n",
      "|ev-2a502661-c281-...|    ORDER_CREATED| 2024-07-26 08:40:41|ord-f367942e-73a1...|\n",
      "|ev-7a475bf1-f642-...|    ORDER_CREATED| 2024-07-26 08:40:29|ord-bd2f0dc6-b94c...|\n",
      "|ev-a3c7688c-b932-...|    ORDER_CREATED| 2024-07-26 08:40:25|ord-b956fd3f-63bd...|\n",
      "|ev-6652b237-02c0-...|    ORDER_CREATED| 2024-07-26 08:40:21|ord-805aa5c5-631f...|\n",
      "|ev-539bc1a1-42f6-...|    ORDER_CREATED| 2024-07-26 08:40:13|ord-5cdce260-6424...|\n",
      "|ev-541e8742-fa99-...|    ORDER_CREATED| 2024-07-26 08:39:57|ord-c3b4a348-f185...|\n",
      "|ev-7baa2dfb-e269-...|    ORDER_CREATED| 2024-07-26 08:39:46|ord-664677b9-43f7...|\n",
      "|ev-2625c7ea-1554-...|INVENTORY_UPDATED|2024-07-26 07:54:...|ord-e5b60f72-19df...|\n",
      "|ev-7c5297f0-a167-...|INVENTORY_UPDATED|2024-07-26 07:54:...|ord-3f235839-9683...|\n",
      "|ev-af317f1e-4d59-...|INVENTORY_UPDATED|2024-07-26 07:54:...|ord-d726c547-c925...|\n",
      "|ev-b96f48cf-941d-...|INVENTORY_UPDATED|2024-07-26 07:54:...|ord-3a9c47fb-fe10...|\n",
      "|ev-cce5f790-c6ba-...|INVENTORY_UPDATED|2024-07-26 07:54:...|ord-e852ba69-6ecd...|\n",
      "|ev-24e83b2e-1361-...|INVENTORY_UPDATED|2024-07-26 07:54:...|ord-abbd242f-6ef8...|\n",
      "|ev-744dd1c0-0a6b-...|INVENTORY_UPDATED|2024-07-26 07:54:...|ord-f7b482c0-8ef4...|\n",
      "|ev-12f0a94b-2ffb-...|INVENTORY_UPDATED|2024-07-26 07:54:...|ord-93a61b00-1a8d...|\n",
      "|ev-ef4e8e14-30f2-...|INVENTORY_UPDATED|2024-07-26 07:54:...|ord-da1fd2fd-840d...|\n",
      "|ev-9dcde3ff-fdea-...|INVENTORY_UPDATED|2024-07-26 07:54:...|ord-ef46b72f-627b...|\n",
      "|ev-227f55bd-36c5-...|INVENTORY_UPDATED|2024-07-26 07:54:...|ord-68fe415c-21a4...|\n",
      "|ev-d9119e22-2f06-...|INVENTORY_UPDATED|2024-07-26 07:54:...|ord-607e1a6e-ca8c...|\n",
      "+--------------------+-----------------+--------------------+--------------------+\n",
      "only showing top 20 rows\n"
     ]
    }
   ],
   "source": [
    "(\n",
    "    spark.table(EVENTS_TABLE)\n",
    "    .orderBy(f.desc(\"event_timestamp\"))\n",
    ").show()"
   ]
  },
  {
   "cell_type": "markdown",
   "metadata": {},
   "source": [
    "### 2.2.2 Orders Stream"
   ]
  },
  {
   "cell_type": "code",
   "execution_count": 41,
   "metadata": {
    "vscode": {
     "languageId": "python_glue_session"
    }
   },
   "outputs": [
    {
     "name": "stdout",
     "output_type": "stream",
     "text": [
      "\n"
     ]
    }
   ],
   "source": [
    "orders_stream = (\n",
    "    df_order_stream\n",
    "    .select(\n",
    "        f.col(\"order_id\"),\n",
    "        f.col(\"order_details.customer_id\").alias(\"customer_id\"),\n",
    "        f.col(\"order_details.total_weight\").alias(\"total_weight\"),\n",
    "        f.col(\"order_details.total_amount\").alias(\"total_price\"),\n",
    "        f.col(\"order_details.order_timestamp\").alias(\"order_timestamp\"),\n",
    "        f.col(\"order_details.status\").alias(\"status\"),\n",
    "        f.col(\"order_details.destination_address.lat\").alias(\"lat\"),\n",
    "        f.col(\"order_details.destination_address.lon\").alias(\"lon\"),\n",
    "    )\n",
    "    .writeStream\n",
    "    .format(\"delta\")\n",
    "    .outputMode(\"append\")\n",
    "    # .trigger(processingTime=PROCESSING_TRIGGER)\n",
    "    # .trigger(availableNow=True)\n",
    "    .trigger(once=True)\n",
    "    .option(\"path\", ORDERS_PATH)\n",
    "    .option(\"checkpointLocation\", ORDERS_CHECKPOINT_LOCATION)\n",
    "    # .toTable(ORDERS_TABLE)\n",
    "    .start()\n",
    ")"
   ]
  },
  {
   "cell_type": "code",
   "execution_count": 42,
   "metadata": {
    "vscode": {
     "languageId": "python_glue_session"
    }
   },
   "outputs": [
    {
     "name": "stdout",
     "output_type": "stream",
     "text": [
      "True\n"
     ]
    }
   ],
   "source": [
    "orders_stream.isActive"
   ]
  },
  {
   "cell_type": "code",
   "execution_count": 43,
   "metadata": {
    "vscode": {
     "languageId": "python_glue_session"
    }
   },
   "outputs": [
    {
     "name": "stdout",
     "output_type": "stream",
     "text": [
      "{'message': 'Processing new data', 'isDataAvailable': True, 'isTriggerActive': True}\n"
     ]
    }
   ],
   "source": [
    "orders_stream.status"
   ]
  },
  {
   "cell_type": "code",
   "execution_count": 44,
   "metadata": {
    "vscode": {
     "languageId": "python_glue_session"
    }
   },
   "outputs": [
    {
     "name": "stdout",
     "output_type": "stream",
     "text": [
      "{'id': 'db3c9a58-33fc-4549-a6ed-b258567b9281', 'runId': 'f515e7b6-4bd5-4674-9f7f-bda5cb54b7ab', 'name': None, 'timestamp': '2024-07-26T08:42:14.385Z', 'batchId': 11, 'numInputRows': 8, 'inputRowsPerSecond': 0.0, 'processedRowsPerSecond': 0.9319664492078286, 'durationMs': {'addBatch': 6975, 'getBatch': 3, 'getOffset': 159, 'queryPlanning': 14, 'triggerExecution': 8584, 'walCommit': 573}, 'stateOperators': [], 'sources': [{'description': 'KinesisSource[orders_stream]', 'startOffset': {'metadata': {'streamName': 'orders_stream', 'batchId': '10'}, 'shardId-000000000000': {'iteratorType': 'AFTER_SEQUENCE_NUMBER', 'iteratorPosition': '49654197460728444292469885729742852246329204371326238722'}}, 'endOffset': {'metadata': {'streamName': 'orders_stream', 'batchId': '11'}, 'shardId-000000000000': {'iteratorType': 'AFTER_SEQUENCE_NUMBER', 'iteratorPosition': '49654197460728444292469885729742852246329204371326238722'}}, 'latestOffset': {'metadata': {'streamName': 'orders_stream', 'batchId': '11'}, 'shardId-000000000000': {'iteratorType': 'AFTER_SEQUENCE_NUMBER', 'iteratorPosition': '49654197460728444292469885729742852246329204371326238722'}}, 'numInputRows': 8, 'inputRowsPerSecond': 0.0, 'processedRowsPerSecond': 0.9319664492078286}], 'sink': {'description': 'DeltaSink[s3a://vproptimiserplatform/orders/delta/bronze/orders]', 'numOutputRows': -1}}\n"
     ]
    }
   ],
   "source": [
    "orders_stream.lastProgress"
   ]
  },
  {
   "cell_type": "code",
   "execution_count": 45,
   "metadata": {
    "vscode": {
     "languageId": "python_glue_session"
    }
   },
   "outputs": [
    {
     "name": "stdout",
     "output_type": "stream",
     "text": [
      "+--------------------+--------------------+--------------------+------------------+--------------------+----------+------------------+-------------------+\n",
      "|            order_id|         customer_id|        total_weight|       total_price|     order_timestamp|    status|               lat|                lon|\n",
      "+--------------------+--------------------+--------------------+------------------+--------------------+----------+------------------+-------------------+\n",
      "|ord-f88c3b93-4f28...|cus-35baa105-37fe...|   1.090000033378601|             10.48| 2024-07-26 08:40:45|  RECEIVED|40.436363220214844| -3.770735263824463|\n",
      "|ord-f367942e-73a1...|cus-293a53e0-2479...|  1.8699999526143074|             76.51| 2024-07-26 08:40:41|  RECEIVED| 40.47103500366211| -3.703655958175659|\n",
      "|ord-bd2f0dc6-b94c...|cus-685b4364-95bf...|  3.4799998998641968|            104.94| 2024-07-26 08:40:29|  RECEIVED|40.341270446777344|-3.7211179733276367|\n",
      "|ord-b956fd3f-63bd...|cus-86ddb64c-bbc1...| 0.14000000059604645|             15.19| 2024-07-26 08:40:25|  RECEIVED| 40.45235824584961|-3.6809637546539307|\n",
      "|ord-805aa5c5-631f...|cus-c4787d20-aaaf...| 0.05999999865889549|             15.78| 2024-07-26 08:40:21|  RECEIVED| 40.34938430786133|-3.6611056327819824|\n",
      "|ord-5cdce260-6424...|cus-4aa29655-750f...|   9.270000010728836|            193.21| 2024-07-26 08:40:13|  RECEIVED| 40.46931076049805|-3.7590677738189697|\n",
      "|ord-c3b4a348-f185...|cus-3d3eafb5-0ff4...|  0.4099999852478504|             31.47| 2024-07-26 08:39:57|  RECEIVED| 40.42833709716797|-3.6563467979431152|\n",
      "|ord-664677b9-43f7...|cus-80c447f1-7a12...|   5.830000061541796|374.33000000000004| 2024-07-26 08:39:46|  RECEIVED|40.422794342041016|-3.6932036876678467|\n",
      "|ord-e852ba69-6ecd...|cus-75253364-6947...|   1.160000041127205|             54.17|2024-07-25 21:45:...|PROCESSING| 40.36768341064453| -3.753357410430908|\n",
      "|ord-da1fd2fd-840d...|cus-9e734087-531e...|                 4.0|             99.99|2024-07-25 21:45:...|PROCESSING|40.401546478271484| -3.648682117462158|\n",
      "|ord-abbd242f-6ef8...|cus-486cbbf7-464d...|   40.73999975994229| 659.1700000000001|2024-07-25 21:45:...|PROCESSING|  40.3638801574707| -3.796038866043091|\n",
      "|ord-ef46b72f-627b...|cus-a84b31aa-15c4...|  0.5499999895691872|             46.93|2024-07-25 21:45:...|PROCESSING| 40.43939208984375|-3.6928911209106445|\n",
      "|ord-e5b60f72-19df...|cus-4b428a5c-3d8a...| 0.03999999910593033|             28.26|2024-07-25 21:45:...|PROCESSING| 40.39348602294922|-3.7385177612304688|\n",
      "|ord-d726c547-c925...|cus-af6e0b52-c027...|   0.419999985024333|             44.58|2024-07-25 21:45:...|PROCESSING|40.448001861572266| -3.707571268081665|\n",
      "|ord-f7b482c0-8ef4...|cus-05824a8f-ec13...|   7.550000229850411|            431.07|2024-07-25 21:45:...|PROCESSING|40.421051025390625| -3.778550148010254|\n",
      "|ord-68fe415c-21a4...|cus-f11ff692-bf22...|0.019999999552965164|             57.54|2024-07-25 21:45:...|PROCESSING|40.390159606933594| -3.747511625289917|\n",
      "|ord-3a9c47fb-fe10...|cus-8561e6f3-f0e8...|  3.0799999237060547|             28.81|2024-07-25 21:45:...|PROCESSING|40.417572021484375| -3.678561210632324|\n",
      "|ord-3f235839-9683...|cus-4d237bb7-3162...|  0.7199999839067459|52.980000000000004|2024-07-25 21:45:...|PROCESSING|40.387454986572266|-3.6703145503997803|\n",
      "|ord-93a61b00-1a8d...|cus-64fc6a25-0406...|   4.589999973773956|             304.5|2024-07-25 21:45:...|PROCESSING| 40.46472930908203| -3.667452096939087|\n",
      "|ord-607e1a6e-ca8c...|cus-e0124b6b-96f3...|  0.5699999928474426|             47.71|2024-07-25 21:45:...|PROCESSING| 40.36989212036133| -3.691133499145508|\n",
      "+--------------------+--------------------+--------------------+------------------+--------------------+----------+------------------+-------------------+\n",
      "only showing top 20 rows\n"
     ]
    }
   ],
   "source": [
    "(\n",
    "    spark.table(ORDERS_TABLE)\n",
    "    .orderBy(f.desc(\"order_timestamp\"))\n",
    ").show()"
   ]
  },
  {
   "cell_type": "markdown",
   "metadata": {},
   "source": [
    "### 2.2.3 Orders Item stream"
   ]
  },
  {
   "cell_type": "code",
   "execution_count": 46,
   "metadata": {
    "vscode": {
     "languageId": "python_glue_session"
    }
   },
   "outputs": [
    {
     "name": "stdout",
     "output_type": "stream",
     "text": [
      "\n"
     ]
    }
   ],
   "source": [
    "df_orders_items_stream = (\n",
    "    df_order_stream\n",
    "    .withColumn(\"exploded_order\", f.explode(f.col(\"order_details.items\")))\n",
    "    .withColumn(\"inventory_id\", f.concat(f.lit(\"inv-\"), f.expr(\"uuid()\")))\n",
    "    .withColumn(\"status\", f.lit(\"PENDING\"))\n",
    "    .select(\n",
    "        f.col(\"inventory_id\"),\n",
    "        f.col(\"order_id\"),\n",
    "        f.col(\"exploded_order.product_id\").alias(\"product_id\"),\n",
    "        f.col(\"exploded_order.product_name\").alias(\"product_name\"),\n",
    "        f.col(\"exploded_order.quantity\").alias(\"quantity\"),\n",
    "        f.col(\"exploded_order.price\").alias(\"price\"),\n",
    "        f.col(\"exploded_order.weight\").alias(\"weight\"),\n",
    "        f.col(\"order_details.order_timestamp\").alias(\"order_timestamp\"),\n",
    "        f.col(\"status\")\n",
    "    )\n",
    ")"
   ]
  },
  {
   "cell_type": "code",
   "execution_count": 47,
   "metadata": {
    "vscode": {
     "languageId": "python_glue_session"
    }
   },
   "outputs": [
    {
     "name": "stdout",
     "output_type": "stream",
     "text": [
      "\n"
     ]
    }
   ],
   "source": [
    "orders_items_stream = (\n",
    "    df_orders_items_stream\n",
    "    .writeStream\n",
    "    .format(\"delta\")\n",
    "    .outputMode(\"append\")\n",
    "    #.trigger(processingTime=PROCESSING_TRIGGER)\n",
    "    #.trigger(availableNow=True)\n",
    "    .trigger(once=True)\n",
    "    .option(\"path\", ORDERS_ITEMS_PATH)\n",
    "    .option(\"checkpointLocation\", ORDERS_ITEMS_CHECKPOINT_LOCATION)\n",
    "    #.toTable(ORDERS_ITEMS_TABLE)\n",
    "    .start()\n",
    ")"
   ]
  },
  {
   "cell_type": "code",
   "execution_count": 48,
   "metadata": {
    "vscode": {
     "languageId": "python_glue_session"
    }
   },
   "outputs": [
    {
     "name": "stdout",
     "output_type": "stream",
     "text": [
      "True\n"
     ]
    }
   ],
   "source": [
    "orders_items_stream.isActive"
   ]
  },
  {
   "cell_type": "code",
   "execution_count": 49,
   "metadata": {
    "vscode": {
     "languageId": "python_glue_session"
    }
   },
   "outputs": [
    {
     "name": "stdout",
     "output_type": "stream",
     "text": [
      "{'message': 'Processing new data', 'isDataAvailable': True, 'isTriggerActive': True}\n"
     ]
    }
   ],
   "source": [
    "orders_items_stream.status"
   ]
  },
  {
   "cell_type": "code",
   "execution_count": 51,
   "metadata": {
    "vscode": {
     "languageId": "python_glue_session"
    }
   },
   "outputs": [
    {
     "name": "stdout",
     "output_type": "stream",
     "text": [
      "{'id': 'e8651aa6-27bb-49c3-9903-a462c6fe4dfd', 'runId': '6058ad20-ed13-4f12-aad0-d694d9a7544f', 'name': None, 'timestamp': '2024-07-26T08:42:51.769Z', 'batchId': 17, 'numInputRows': 8, 'inputRowsPerSecond': 0.0, 'processedRowsPerSecond': 0.9800318510351587, 'durationMs': {'addBatch': 6736, 'getBatch': 4, 'getOffset': 149, 'queryPlanning': 23, 'triggerExecution': 8163, 'walCommit': 537}, 'stateOperators': [], 'sources': [{'description': 'KinesisSource[orders_stream]', 'startOffset': {'metadata': {'streamName': 'orders_stream', 'batchId': '16'}, 'shardId-000000000000': {'iteratorType': 'AFTER_SEQUENCE_NUMBER', 'iteratorPosition': '49654197460728444292469885729742852246329204371326238722'}}, 'endOffset': {'metadata': {'streamName': 'orders_stream', 'batchId': '17'}, 'shardId-000000000000': {'iteratorType': 'AFTER_SEQUENCE_NUMBER', 'iteratorPosition': '49654197460728444292469885729742852246329204371326238722'}}, 'latestOffset': {'metadata': {'streamName': 'orders_stream', 'batchId': '17'}, 'shardId-000000000000': {'iteratorType': 'AFTER_SEQUENCE_NUMBER', 'iteratorPosition': '49654197460728444292469885729742852246329204371326238722'}}, 'numInputRows': 8, 'inputRowsPerSecond': 0.0, 'processedRowsPerSecond': 0.9800318510351587}], 'sink': {'description': 'DeltaSink[s3a://vproptimiserplatform/orders/delta/bronze/orders_items]', 'numOutputRows': -1}}\n"
     ]
    }
   ],
   "source": [
    "orders_items_stream.lastProgress"
   ]
  },
  {
   "cell_type": "code",
   "execution_count": 52,
   "metadata": {
    "vscode": {
     "languageId": "python_glue_session"
    }
   },
   "outputs": [
    {
     "name": "stdout",
     "output_type": "stream",
     "text": [
      "+--------------------+--------------------+--------------------+--------------------+--------+------+--------------------+--------------------+----------+\n",
      "|        inventory_id|            order_id|          product_id|        product_name|quantity| price|              weight|     order_timestamp|    status|\n",
      "+--------------------+--------------------+--------------------+--------------------+--------+------+--------------------+--------------------+----------+\n",
      "|inv-6887545c-3647...|ord-f88c3b93-4f28...|pro-af3352e0952dd...|Blue Wave 3D Acti...|       1| 10.48|   1.090000033378601| 2024-07-26 08:40:45|   PENDING|\n",
      "|inv-b3a1fcb1-b429...|ord-f367942e-73a1...|pro-74faf0bdf8fdc...|Star Wars Darth V...|       1| 17.87| 0.27000001072883606| 2024-07-26 08:40:41|   PENDING|\n",
      "|inv-e3d3f030-08bc...|ord-f367942e-73a1...|pro-3f7200e31bff0...|           Go Matria|       3| 10.22|  0.5199999809265137| 2024-07-26 08:40:41|   PENDING|\n",
      "|inv-58faf8bc-11f5...|ord-f367942e-73a1...|pro-ed0c348d64037...|Deck Box: Dragon ...|       2| 13.99|0.019999999552965164| 2024-07-26 08:40:41|   PENDING|\n",
      "|inv-effcf00a-a2bf...|ord-bd2f0dc6-b94c...|pro-c0069db4fed65...|Magformers Magic ...|       3| 34.98|   1.159999966621399| 2024-07-26 08:40:29|   PENDING|\n",
      "|inv-5f16549b-62e0...|ord-b956fd3f-63bd...|pro-545ab8cdda96a...|MerryMakers Drago...|       1| 15.19| 0.14000000059604645| 2024-07-26 08:40:25|   PENDING|\n",
      "|inv-c811fe2a-215d...|ord-805aa5c5-631f...|pro-d586a7dbd7296...|Nanoblock Birthda...|       2|  7.89|0.029999999329447746| 2024-07-26 08:40:21|   PENDING|\n",
      "|inv-22211b21-ae44...|ord-5cdce260-6424...|pro-1ecccb43e0f5c...|C&D Visionary DC ...|       2|  4.99|                 0.0| 2024-07-26 08:40:13|   PENDING|\n",
      "|inv-abde9791-6074...|ord-5cdce260-6424...|pro-637999973a481...|Princess Paradise...|       2| 39.99|  0.5199999809265137| 2024-07-26 08:40:13|   PENDING|\n",
      "|inv-afcea1f2-81ce...|ord-5cdce260-6424...|pro-65c83efabb2da...|Fisher-Price Litt...|       3| 13.64|  1.6100000143051147| 2024-07-26 08:40:13|   PENDING|\n",
      "|inv-ca7d4930-c7c9...|ord-5cdce260-6424...|pro-38c4cfd60ee22...|VTech Crazy Legs ...|       3| 18.78|                 1.0| 2024-07-26 08:40:13|   PENDING|\n",
      "|inv-dda2e80c-22cd...|ord-5cdce260-6424...|pro-2b0a33cd262ac...|2018 Ant-Man 1/2 ...|       1|  5.99|  0.4000000059604645| 2024-07-26 08:40:13|   PENDING|\n",
      "|inv-6d2fe94b-deff...|ord-c3b4a348-f185...|pro-7cd75bcbee229...|Rage RC C1839 Bat...|       2|  5.83|0.009999999776482582| 2024-07-26 08:39:57|   PENDING|\n",
      "|inv-06ed610c-9fbe...|ord-c3b4a348-f185...|pro-a21bcc5e104f3...|Krash Black Gator...|       1| 19.81| 0.38999998569488525| 2024-07-26 08:39:57|   PENDING|\n",
      "|inv-67c4403f-9a3e...|ord-664677b9-43f7...|pro-ec71cef1ba89d...|School Smart Viny...|       1|  7.99| 0.18000000715255737| 2024-07-26 08:39:46|   PENDING|\n",
      "|inv-d9fd7532-d914...|ord-664677b9-43f7...|pro-b910925d4eb61...|Redcat Racing Rer...|       2|  5.99|0.009999999776482582| 2024-07-26 08:39:46|   PENDING|\n",
      "|inv-648829cc-bdb2...|ord-664677b9-43f7...|pro-ac3367c21c85d...|Vaterra 1/10 1972...|       1|329.99|   5.440000057220459| 2024-07-26 08:39:46|   PENDING|\n",
      "|inv-145058d1-06d8...|ord-664677b9-43f7...|pro-cc5f508a1cc8d...|Ruffneck Scarves ...|       1| 24.37|  0.1899999976158142| 2024-07-26 08:39:46|   PENDING|\n",
      "|inv-0378ecd6-06b2...|ord-e852ba69-6ecd...|pro-f943493c713d7...|Entertaining with...|       1| 19.18| 0.07999999821186066|2024-07-25 21:39:...|PROCESSING|\n",
      "|inv-164b0dca-cdd9...|ord-abbd242f-6ef8...|pro-891db9b404384...|Tamiya TAM58646 1...|       1| 182.0|  3.5999999046325684|2024-07-25 21:39:...|PROCESSING|\n",
      "+--------------------+--------------------+--------------------+--------------------+--------+------+--------------------+--------------------+----------+\n",
      "only showing top 20 rows\n"
     ]
    }
   ],
   "source": [
    "(\n",
    "    spark\n",
    "    .read\n",
    "    .format(\"delta\")\n",
    "    .load(ORDERS_ITEMS_PATH)\n",
    "    .orderBy(f.desc(\"order_timestamp\"))\n",
    ").show()"
   ]
  },
  {
   "cell_type": "markdown",
   "metadata": {
    "vscode": {
     "languageId": "python_glue_session"
    }
   },
   "source": [
    "# 3. Write Inventory Streams"
   ]
  },
  {
   "cell_type": "markdown",
   "metadata": {},
   "source": [
    "Detailed Workflow Example:\n",
    "\n",
    "* **Pending**: Customer places an order -> Order is created in the system with status Pending.\n",
    "* **Confirmed**: Payment is verified -> Status changes to Confirmed.\n",
    "* **Processing**: Order is being prepared -> Status changes to Processing.\n",
    "* **Packed**: Items are packed -> Status changes to Packed.\n",
    "* **Shipped**: Package handed to carrier -> Status changes to Shipped.\n",
    "* **In Transit**: Carrier updates status -> Status changes to In Transit.\n",
    "* **Out for Delivery**: Carrier updates status -> Status changes to Out for Delivery.\n",
    "* **Delivered**: Package delivered to customer -> Status changes to Delivered."
   ]
  },
  {
   "cell_type": "markdown",
   "metadata": {},
   "source": [
    "## 3.1 Upsert Product Table"
   ]
  },
  {
   "cell_type": "code",
   "execution_count": 53,
   "metadata": {
    "vscode": {
     "languageId": "python_glue_session"
    }
   },
   "outputs": [
    {
     "name": "stdout",
     "output_type": "stream",
     "text": [
      "\n"
     ]
    }
   ],
   "source": []
  },
  {
   "cell_type": "code",
   "execution_count": 54,
   "metadata": {
    "vscode": {
     "languageId": "python_glue_session"
    }
   },
   "outputs": [
    {
     "name": "stdout",
     "output_type": "stream",
     "text": [
      "INFO:Callback Server Starting\n",
      "INFO:Socket listening on ('127.0.0.1', 34723)\n"
     ]
    }
   ],
   "source": [
    "update_products_stream = (\n",
    "    df_orders_items_stream\n",
    "    .select(\n",
    "        f.col(\"product_id\"),\n",
    "        f.col(\"quantity\")\n",
    "    )\n",
    "    .writeStream\n",
    "    .format(\"delta\")\n",
    "    .outputMode(\"update\")\n",
    "    .foreachBatch(upsert_to_products)\n",
    "    .option(\"path\", PRODUCTS_PATH)\n",
    "    .option(\"checkpointLocation\", PRODUCTS_CHECKPOINT_LOCATION)\n",
    "    .trigger(once=True)\n",
    "    .start()\n",
    ")"
   ]
  },
  {
   "cell_type": "code",
   "execution_count": 55,
   "metadata": {
    "vscode": {
     "languageId": "python_glue_session"
    }
   },
   "outputs": [
    {
     "name": "stdout",
     "output_type": "stream",
     "text": [
      "True\n"
     ]
    }
   ],
   "source": [
    "update_products_stream.isActive"
   ]
  },
  {
   "cell_type": "code",
   "execution_count": 56,
   "metadata": {
    "vscode": {
     "languageId": "python_glue_session"
    }
   },
   "outputs": [
    {
     "name": "stdout",
     "output_type": "stream",
     "text": [
      "{'message': 'Processing new data', 'isDataAvailable': True, 'isTriggerActive': True}\n"
     ]
    }
   ],
   "source": [
    "update_products_stream.status"
   ]
  },
  {
   "cell_type": "code",
   "execution_count": 60,
   "metadata": {
    "vscode": {
     "languageId": "python_glue_session"
    }
   },
   "outputs": [
    {
     "name": "stdout",
     "output_type": "stream",
     "text": [
      "{'id': 'd21e3086-feb1-4b29-8fbe-707118f23e3a', 'runId': '547b4c49-0b30-43c8-beb7-870e964bc6fe', 'name': None, 'timestamp': '2024-07-26T08:43:30.988Z', 'batchId': 7, 'numInputRows': 16, 'inputRowsPerSecond': 0.0, 'processedRowsPerSecond': 0.9421185891774126, 'durationMs': {'addBatch': 15543, 'getBatch': 3, 'getOffset': 165, 'queryPlanning': 29, 'triggerExecution': 16983, 'walCommit': 542}, 'stateOperators': [], 'sources': [{'description': 'KinesisSource[orders_stream]', 'startOffset': {'metadata': {'streamName': 'orders_stream', 'batchId': '6'}, 'shardId-000000000000': {'iteratorType': 'AFTER_SEQUENCE_NUMBER', 'iteratorPosition': '49654197460728444292469885729742852246329204371326238722'}}, 'endOffset': {'metadata': {'streamName': 'orders_stream', 'batchId': '7'}, 'shardId-000000000000': {'iteratorType': 'AFTER_SEQUENCE_NUMBER', 'iteratorPosition': '49654197460728444292469885729742852246329204371326238722'}}, 'latestOffset': {'metadata': {'streamName': 'orders_stream', 'batchId': '7'}, 'shardId-000000000000': {'iteratorType': 'AFTER_SEQUENCE_NUMBER', 'iteratorPosition': '49654197460728444292469885729742852246329204371326238722'}}, 'numInputRows': 16, 'inputRowsPerSecond': 0.0, 'processedRowsPerSecond': 0.9421185891774126}], 'sink': {'description': 'ForeachBatchSink', 'numOutputRows': -1}}\n"
     ]
    }
   ],
   "source": [
    "update_products_stream.lastProgress"
   ]
  },
  {
   "cell_type": "code",
   "execution_count": 1,
   "metadata": {
    "vscode": {
     "languageId": "python_glue_session"
    }
   },
   "outputs": [
    {
     "ename": "NameError",
     "evalue": "name 'spark' is not defined",
     "output_type": "error",
     "traceback": [
      "\u001b[0;31m---------------------------------------------------------------------------\u001b[0m",
      "\u001b[0;31mNameError\u001b[0m                                 Traceback (most recent call last)",
      "Cell \u001b[0;32mIn[1], line 2\u001b[0m\n\u001b[1;32m      1\u001b[0m (\n\u001b[0;32m----> 2\u001b[0m     \u001b[43mspark\u001b[49m\n\u001b[1;32m      3\u001b[0m     \u001b[38;5;241m.\u001b[39mread\n\u001b[1;32m      4\u001b[0m     \u001b[38;5;241m.\u001b[39mformat(\u001b[38;5;124m\"\u001b[39m\u001b[38;5;124mdelta\u001b[39m\u001b[38;5;124m\"\u001b[39m)\n\u001b[1;32m      5\u001b[0m     \u001b[38;5;241m.\u001b[39mload(PRODUCTS_PATH)\n\u001b[1;32m      6\u001b[0m     \u001b[38;5;241m.\u001b[39morderBy(f\u001b[38;5;241m.\u001b[39mdesc(\u001b[38;5;124m\"\u001b[39m\u001b[38;5;124mupdated_at\u001b[39m\u001b[38;5;124m\"\u001b[39m))\n\u001b[1;32m      7\u001b[0m     \u001b[38;5;241m.\u001b[39mlimit(\u001b[38;5;241m25\u001b[39m)\n\u001b[1;32m      8\u001b[0m )\u001b[38;5;241m.\u001b[39mcount()\n",
      "\u001b[0;31mNameError\u001b[0m: name 'spark' is not defined"
     ]
    }
   ],
   "source": [
    "(\n",
    "    spark\n",
    "    .read\n",
    "    .format(\"delta\")\n",
    "    .load(PRODUCTS_PATH)\n",
    "    .orderBy(f.desc(\"updated_at\"))\n",
    "    .limit(25)\n",
    ").show()"
   ]
  },
  {
   "cell_type": "markdown",
   "metadata": {},
   "source": [
    "## 3.2 Upsert Orders"
   ]
  },
  {
   "cell_type": "code",
   "execution_count": 62,
   "metadata": {},
   "outputs": [
    {
     "name": "stdout",
     "output_type": "stream",
     "text": [
      "<pyspark.sql.streaming.StreamingQuery object at 0x7fc71346ed40>\n"
     ]
    }
   ],
   "source": [
    "# (\n",
    "#     df_order_stream\n",
    "#       .writeStream\n",
    "#       .queryName(\"orders_query\")\n",
    "#       .format(\"memory\")\n",
    "#       .outputMode(\"append\")\n",
    "#       .start()\n",
    "# )"
   ]
  },
  {
   "cell_type": "code",
   "execution_count": 63,
   "metadata": {},
   "outputs": [
    {
     "name": "stdout",
     "output_type": "stream",
     "text": [
      "+--------------------+-------------+-------------------+--------------------+--------------------+\n",
      "|            event_id|   event_type|    event_timestamp|            order_id|       order_details|\n",
      "+--------------------+-------------+-------------------+--------------------+--------------------+\n",
      "|ev-4bda3bd6-59a5-...|ORDER_CREATED|2024-07-25 08:57:09|ord-93a61b00-1a8d...|{cus-64fc6a25-040...|\n",
      "|ev-122c578f-5779-...|ORDER_CREATED|2024-07-25 08:57:17|ord-f7b482c0-8ef4...|{cus-05824a8f-ec1...|\n",
      "|ev-014d2ffc-ed84-...|ORDER_CREATED|2024-07-25 08:57:22|ord-68fe415c-21a4...|{cus-f11ff692-bf2...|\n",
      "|ev-b6f67afe-456d-...|ORDER_CREATED|2024-07-25 08:57:27|ord-607e1a6e-ca8c...|{cus-e0124b6b-96f...|\n",
      "|ev-7baa2dfb-e269-...|ORDER_CREATED|2024-07-26 08:39:46|ord-664677b9-43f7...|{cus-80c447f1-7a1...|\n",
      "|ev-541e8742-fa99-...|ORDER_CREATED|2024-07-26 08:39:57|ord-c3b4a348-f185...|{cus-3d3eafb5-0ff...|\n",
      "|ev-539bc1a1-42f6-...|ORDER_CREATED|2024-07-26 08:40:13|ord-5cdce260-6424...|{cus-4aa29655-750...|\n",
      "|ev-6652b237-02c0-...|ORDER_CREATED|2024-07-26 08:40:21|ord-805aa5c5-631f...|{cus-c4787d20-aaa...|\n",
      "|ev-a3c7688c-b932-...|ORDER_CREATED|2024-07-26 08:40:25|ord-b956fd3f-63bd...|{cus-86ddb64c-bbc...|\n",
      "|ev-7a475bf1-f642-...|ORDER_CREATED|2024-07-26 08:40:29|ord-bd2f0dc6-b94c...|{cus-685b4364-95b...|\n",
      "|ev-2a502661-c281-...|ORDER_CREATED|2024-07-26 08:40:41|ord-f367942e-73a1...|{cus-293a53e0-247...|\n",
      "|ev-5cb27318-fcc9-...|ORDER_CREATED|2024-07-26 08:40:45|ord-f88c3b93-4f28...|{cus-35baa105-37f...|\n",
      "+--------------------+-------------+-------------------+--------------------+--------------------+\n"
     ]
    }
   ],
   "source": [
    "# spark.table(\"orders_query\").show()\n"
   ]
  },
  {
   "cell_type": "code",
   "execution_count": 64,
   "metadata": {},
   "outputs": [
    {
     "name": "stdout",
     "output_type": "stream",
     "text": [
      "+--------------------+--------------------+--------------------+--------------------+--------+------+--------------------+-------------------+-------+\n",
      "|        inventory_id|            order_id|          product_id|        product_name|quantity| price|              weight|    order_timestamp| status|\n",
      "+--------------------+--------------------+--------------------+--------------------+--------+------+--------------------+-------------------+-------+\n",
      "|inv-dc3a8b72-b432...|ord-93a61b00-1a8d...|pro-c5f4c94653a3b...|DC Cover Girls: B...|       2| 84.61|   0.949999988079071|2024-07-25 08:57:09|PENDING|\n",
      "|inv-51daf8c3-86dc...|ord-93a61b00-1a8d...|pro-5ab08f087af15...|Bif Bang Pow! Her...|       2| 24.99|  0.3400000035762787|2024-07-25 08:57:09|PENDING|\n",
      "|inv-70894cc9-c17e...|ord-93a61b00-1a8d...|pro-2df8ae3b71b8f...|Bandai Hobby # 4 ...|       2| 30.68| 0.36000001430511475|2024-07-25 08:57:09|PENDING|\n",
      "|inv-e00be98c-e987...|ord-93a61b00-1a8d...|pro-0aabec43322b0...|VTech Zoo Jamz Pi...|       1| 23.94|  1.2899999618530273|2024-07-25 08:57:09|PENDING|\n",
      "|inv-940ef9f3-9335...|ord-f7b482c0-8ef4...|pro-5c1770f9f9414...|Dreamworks Dragon...|       1| 17.97|  0.4000000059604645|2024-07-25 08:57:17|PENDING|\n",
      "|inv-16b930a5-199b...|ord-f7b482c0-8ef4...|pro-07347fd7e92a6...|Terra by Battat –...|       1| 13.78| 0.36000001430511475|2024-07-25 08:57:17|PENDING|\n",
      "|inv-02e02484-2617...|ord-f7b482c0-8ef4...|pro-289cf4e51ba4f...|LEGO Technic Buga...|       1|347.78|    6.78000020980835|2024-07-25 08:57:17|PENDING|\n",
      "|inv-b629ebb2-e66f...|ord-f7b482c0-8ef4...|pro-a534339e56346...|    HANSA 6149 Plush|       1| 51.54|0.009999999776482582|2024-07-25 08:57:17|PENDING|\n",
      "|inv-794ecdce-965e...|ord-68fe415c-21a4...|pro-904ab3340cc5a...|Bolt Action Panze...|       2| 28.77|0.009999999776482582|2024-07-25 08:57:22|PENDING|\n",
      "|inv-74717872-6f8e...|ord-607e1a6e-ca8c...|pro-91d4e5940d070...|Mercedes-Amg C 63...|       1| 17.92| 0.09000000357627869|2024-07-25 08:57:27|PENDING|\n",
      "|inv-922b4527-b5bd...|ord-607e1a6e-ca8c...|pro-74324d9afa459...|BePuzzled Origina...|       3|  9.93|  0.1599999964237213|2024-07-25 08:57:27|PENDING|\n",
      "|inv-88cc8d5f-71d0...|ord-664677b9-43f7...|pro-ac3367c21c85d...|Vaterra 1/10 1972...|       1|329.99|   5.440000057220459|2024-07-26 08:39:46|PENDING|\n",
      "|inv-2830f6d7-5ad3...|ord-664677b9-43f7...|pro-ec71cef1ba89d...|School Smart Viny...|       1|  7.99| 0.18000000715255737|2024-07-26 08:39:46|PENDING|\n",
      "|inv-d761bc29-f0c7...|ord-664677b9-43f7...|pro-b910925d4eb61...|Redcat Racing Rer...|       2|  5.99|0.009999999776482582|2024-07-26 08:39:46|PENDING|\n",
      "|inv-0916f585-8d02...|ord-664677b9-43f7...|pro-cc5f508a1cc8d...|Ruffneck Scarves ...|       1| 24.37|  0.1899999976158142|2024-07-26 08:39:46|PENDING|\n",
      "|inv-c08888eb-505e...|ord-c3b4a348-f185...|pro-7cd75bcbee229...|Rage RC C1839 Bat...|       2|  5.83|0.009999999776482582|2024-07-26 08:39:57|PENDING|\n",
      "|inv-9702e182-b084...|ord-c3b4a348-f185...|pro-a21bcc5e104f3...|Krash Black Gator...|       1| 19.81| 0.38999998569488525|2024-07-26 08:39:57|PENDING|\n",
      "|inv-3ed669f8-9276...|ord-5cdce260-6424...|pro-38c4cfd60ee22...|VTech Crazy Legs ...|       3| 18.78|                 1.0|2024-07-26 08:40:13|PENDING|\n",
      "|inv-54db4f3b-f086...|ord-5cdce260-6424...|pro-637999973a481...|Princess Paradise...|       2| 39.99|  0.5199999809265137|2024-07-26 08:40:13|PENDING|\n",
      "|inv-6c2f6af5-7ed8...|ord-5cdce260-6424...|pro-2b0a33cd262ac...|2018 Ant-Man 1/2 ...|       1|  5.99|  0.4000000059604645|2024-07-26 08:40:13|PENDING|\n",
      "+--------------------+--------------------+--------------------+--------------------+--------+------+--------------------+-------------------+-------+\n",
      "only showing top 20 rows\n"
     ]
    }
   ],
   "source": [
    "# (\n",
    "#     spark.table(\"orders_query\")\n",
    "#     .withColumn(\"exploded_order\", f.explode(f.col(\"order_details.items\")))\n",
    "#     .withColumn(\"inventory_id\", f.concat(f.lit(\"inv-\"), f.expr(\"uuid()\")))\n",
    "#     .withColumn(\"status\", f.lit(\"PENDING\"))\n",
    "#     .select(\n",
    "#         f.col(\"inventory_id\"),\n",
    "#         f.col(\"order_id\"),\n",
    "#         f.col(\"exploded_order.product_id\").alias(\"product_id\"),\n",
    "#         f.col(\"exploded_order.product_name\").alias(\"product_name\"),\n",
    "#         f.col(\"exploded_order.quantity\").alias(\"quantity\"),\n",
    "#         f.col(\"exploded_order.price\").alias(\"price\"),\n",
    "#         f.col(\"exploded_order.weight\").alias(\"weight\"),\n",
    "#         f.col(\"order_details.order_timestamp\").alias(\"order_timestamp\"),\n",
    "#         f.col(\"status\")\n",
    "#     )\n",
    "# ).show()"
   ]
  },
  {
   "cell_type": "code",
   "execution_count": 15,
   "metadata": {},
   "outputs": [],
   "source": [
    "# (\n",
    "#     df_orders_items_stream\n",
    "#       .writeStream\n",
    "#       .queryName(\"orders_items_query\")\n",
    "#       .format(\"memory\")\n",
    "#       .outputMode(\"append\")\n",
    "#       .start()\n",
    "# )"
   ]
  },
  {
   "cell_type": "code",
   "execution_count": 16,
   "metadata": {},
   "outputs": [],
   "source": [
    "# spark.table(\"orders_items_query\").show()"
   ]
  },
  {
   "cell_type": "markdown",
   "metadata": {},
   "source": [
    "### 3.2.1 Upsert Orders Item Table"
   ]
  },
  {
   "cell_type": "code",
   "execution_count": 65,
   "metadata": {
    "vscode": {
     "languageId": "python_glue_session"
    }
   },
   "outputs": [
    {
     "name": "stdout",
     "output_type": "stream",
     "text": [
      "\n"
     ]
    }
   ],
   "source": [
    "def upsert_to_orders_items(microBatchDF, batchId):\n",
    "    deltaTableOrdersItems = DeltaTable.forPath(spark, ORDERS_ITEMS_PATH)\n",
    "    (\n",
    "        deltaTableOrdersItems.alias(\"t\")\n",
    "        .merge(\n",
    "            microBatchDF.alias(\"s\"),\n",
    "            \"s.product_id = t.product_id\"\n",
    "        )\n",
    "        .whenMatchedUpdate(\n",
    "            set={\n",
    "                \"status\": f.lit(\"PROCESSING\"),\n",
    "                \"order_timestamp\": f.current_timestamp()\n",
    "            },\n",
    "        )\n",
    "        .execute()\n",
    "    )"
   ]
  },
  {
   "cell_type": "code",
   "execution_count": 66,
   "metadata": {
    "vscode": {
     "languageId": "python_glue_session"
    }
   },
   "outputs": [
    {
     "name": "stdout",
     "output_type": "stream",
     "text": [
      "\n"
     ]
    }
   ],
   "source": [
    "processing_orders_items_stream = (\n",
    "    df_orders_items_stream\n",
    "    .filter(f.col(\"status\") == f.lit(\"PENDING\"))\n",
    "    .select(\n",
    "        f.col(\"inventory_id\"),\n",
    "        f.col(\"product_id\")\n",
    "    )\n",
    "    .writeStream\n",
    "    .format(\"delta\")\n",
    "    .outputMode(\"update\")\n",
    "    .foreachBatch(upsert_to_orders_items)\n",
    "    .trigger(once=True)\n",
    "    .option(\"path\", ORDERS_ITEMS_PATH)\n",
    "    .option(\"checkpointLocation\", f\"{ORDERS_ITEMS_CHECKPOINT_LOCATION}_processing\")\n",
    "    .start()\n",
    ")\n"
   ]
  },
  {
   "cell_type": "code",
   "execution_count": 67,
   "metadata": {
    "vscode": {
     "languageId": "python_glue_session"
    }
   },
   "outputs": [
    {
     "name": "stdout",
     "output_type": "stream",
     "text": [
      "True\n"
     ]
    }
   ],
   "source": [
    "processing_orders_items_stream.isActive"
   ]
  },
  {
   "cell_type": "code",
   "execution_count": 68,
   "metadata": {
    "vscode": {
     "languageId": "python_glue_session"
    }
   },
   "outputs": [
    {
     "name": "stdout",
     "output_type": "stream",
     "text": [
      "{'message': 'Processing new data', 'isDataAvailable': True, 'isTriggerActive': True}\n"
     ]
    }
   ],
   "source": [
    "processing_orders_items_stream.status"
   ]
  },
  {
   "cell_type": "code",
   "execution_count": 70,
   "metadata": {
    "vscode": {
     "languageId": "python_glue_session"
    }
   },
   "outputs": [
    {
     "name": "stdout",
     "output_type": "stream",
     "text": [
      "{'id': '15ebff41-8c09-49e9-b3c3-dac2f72e1f3a', 'runId': '5f6b46a9-3eab-44b2-8fd4-f0531607b490', 'name': None, 'timestamp': '2024-07-26T08:45:22.177Z', 'batchId': 1, 'numInputRows': 16, 'inputRowsPerSecond': 0.0, 'processedRowsPerSecond': 1.589351345981921, 'durationMs': {'addBatch': 8693, 'getBatch': 3, 'getOffset': 184, 'queryPlanning': 24, 'triggerExecution': 10067, 'walCommit': 500}, 'stateOperators': [], 'sources': [{'description': 'KinesisSource[orders_stream]', 'startOffset': {'metadata': {'streamName': 'orders_stream', 'batchId': '0'}, 'shardId-000000000000': {'iteratorType': 'TRIM_HORIZON', 'iteratorPosition': ''}}, 'endOffset': {'metadata': {'streamName': 'orders_stream', 'batchId': '1'}, 'shardId-000000000000': {'iteratorType': 'AFTER_SEQUENCE_NUMBER', 'iteratorPosition': '49654197460728444292469885729742852246329204371326238722'}}, 'latestOffset': {'metadata': {'streamName': 'orders_stream', 'batchId': '1'}, 'shardId-000000000000': {'iteratorType': 'AFTER_SEQUENCE_NUMBER', 'iteratorPosition': '49654197460728444292469885729742852246329204371326238722'}}, 'numInputRows': 16, 'inputRowsPerSecond': 0.0, 'processedRowsPerSecond': 1.589351345981921}], 'sink': {'description': 'ForeachBatchSink', 'numOutputRows': -1}}\n"
     ]
    }
   ],
   "source": [
    "processing_orders_items_stream.lastProgress"
   ]
  },
  {
   "cell_type": "code",
   "execution_count": 73,
   "metadata": {
    "vscode": {
     "languageId": "python_glue_session"
    }
   },
   "outputs": [
    {
     "name": "stdout",
     "output_type": "stream",
     "text": [
      "+--------------------+--------------------+--------------------+--------------------+--------+------+--------------------+--------------------+----------+\n",
      "|        inventory_id|            order_id|          product_id|        product_name|quantity| price|              weight|     order_timestamp|    status|\n",
      "+--------------------+--------------------+--------------------+--------------------+--------+------+--------------------+--------------------+----------+\n",
      "|inv-648829cc-bdb2...|ord-664677b9-43f7...|pro-ac3367c21c85d...|Vaterra 1/10 1972...|       1|329.99|   5.440000057220459|2024-07-26 08:45:...|PROCESSING|\n",
      "|inv-67c4403f-9a3e...|ord-664677b9-43f7...|pro-ec71cef1ba89d...|School Smart Viny...|       1|  7.99| 0.18000000715255737|2024-07-26 08:45:...|PROCESSING|\n",
      "|inv-145058d1-06d8...|ord-664677b9-43f7...|pro-cc5f508a1cc8d...|Ruffneck Scarves ...|       1| 24.37|  0.1899999976158142|2024-07-26 08:45:...|PROCESSING|\n",
      "|inv-ca7d4930-c7c9...|ord-5cdce260-6424...|pro-38c4cfd60ee22...|VTech Crazy Legs ...|       3| 18.78|                 1.0|2024-07-26 08:45:...|PROCESSING|\n",
      "|inv-22211b21-ae44...|ord-5cdce260-6424...|pro-1ecccb43e0f5c...|C&D Visionary DC ...|       2|  4.99|                 0.0|2024-07-26 08:45:...|PROCESSING|\n",
      "|inv-effcf00a-a2bf...|ord-bd2f0dc6-b94c...|pro-c0069db4fed65...|Magformers Magic ...|       3| 34.98|   1.159999966621399|2024-07-26 08:45:...|PROCESSING|\n",
      "|inv-b3a1fcb1-b429...|ord-f367942e-73a1...|pro-74faf0bdf8fdc...|Star Wars Darth V...|       1| 17.87| 0.27000001072883606|2024-07-26 08:45:...|PROCESSING|\n",
      "|inv-58faf8bc-11f5...|ord-f367942e-73a1...|pro-ed0c348d64037...|Deck Box: Dragon ...|       2| 13.99|0.019999999552965164|2024-07-26 08:45:...|PROCESSING|\n",
      "|inv-6887545c-3647...|ord-f88c3b93-4f28...|pro-af3352e0952dd...|Blue Wave 3D Acti...|       1| 10.48|   1.090000033378601|2024-07-26 08:45:...|PROCESSING|\n",
      "|inv-6d2fe94b-deff...|ord-c3b4a348-f185...|pro-7cd75bcbee229...|Rage RC C1839 Bat...|       2|  5.83|0.009999999776482582|2024-07-26 08:45:...|PROCESSING|\n",
      "|inv-06ed610c-9fbe...|ord-c3b4a348-f185...|pro-a21bcc5e104f3...|Krash Black Gator...|       1| 19.81| 0.38999998569488525|2024-07-26 08:45:...|PROCESSING|\n",
      "|inv-abde9791-6074...|ord-5cdce260-6424...|pro-637999973a481...|Princess Paradise...|       2| 39.99|  0.5199999809265137|2024-07-26 08:45:...|PROCESSING|\n",
      "|inv-dda2e80c-22cd...|ord-5cdce260-6424...|pro-2b0a33cd262ac...|2018 Ant-Man 1/2 ...|       1|  5.99|  0.4000000059604645|2024-07-26 08:45:...|PROCESSING|\n",
      "|inv-afcea1f2-81ce...|ord-5cdce260-6424...|pro-65c83efabb2da...|Fisher-Price Litt...|       3| 13.64|  1.6100000143051147|2024-07-26 08:45:...|PROCESSING|\n",
      "|inv-5f16549b-62e0...|ord-b956fd3f-63bd...|pro-545ab8cdda96a...|MerryMakers Drago...|       1| 15.19| 0.14000000059604645|2024-07-26 08:45:...|PROCESSING|\n",
      "|inv-d9fd7532-d914...|ord-664677b9-43f7...|pro-b910925d4eb61...|Redcat Racing Rer...|       2|  5.99|0.009999999776482582|2024-07-26 08:45:...|PROCESSING|\n",
      "|inv-c811fe2a-215d...|ord-805aa5c5-631f...|pro-d586a7dbd7296...|Nanoblock Birthda...|       2|  7.89|0.029999999329447746|2024-07-26 08:45:...|PROCESSING|\n",
      "|inv-e3d3f030-08bc...|ord-f367942e-73a1...|pro-3f7200e31bff0...|           Go Matria|       3| 10.22|  0.5199999809265137|2024-07-26 08:45:...|PROCESSING|\n",
      "|inv-0378ecd6-06b2...|ord-e852ba69-6ecd...|pro-f943493c713d7...|Entertaining with...|       1| 19.18| 0.07999999821186066|2024-07-25 21:39:...|PROCESSING|\n",
      "|inv-164b0dca-cdd9...|ord-abbd242f-6ef8...|pro-891db9b404384...|Tamiya TAM58646 1...|       1| 182.0|  3.5999999046325684|2024-07-25 21:39:...|PROCESSING|\n",
      "+--------------------+--------------------+--------------------+--------------------+--------+------+--------------------+--------------------+----------+\n",
      "only showing top 20 rows\n"
     ]
    }
   ],
   "source": [
    "(\n",
    "    spark\n",
    "    .read\n",
    "    .format(\"delta\")\n",
    "    .load(ORDERS_ITEMS_PATH)\n",
    "    # .join(\n",
    "    #     spark.table(\"orders_items_query\"),\n",
    "    #     \"product_id\"\n",
    "    # )\n",
    "    .orderBy(f.desc(\"order_timestamp\"))\n",
    "    .limit(25)\n",
    ").show()"
   ]
  },
  {
   "cell_type": "markdown",
   "metadata": {},
   "source": [
    "### 3.2.2 Upsert Orders Table"
   ]
  },
  {
   "cell_type": "code",
   "execution_count": 74,
   "metadata": {
    "vscode": {
     "languageId": "python_glue_session"
    }
   },
   "outputs": [
    {
     "name": "stdout",
     "output_type": "stream",
     "text": [
      "\n"
     ]
    }
   ],
   "source": [
    "def upsert_to_orders(microBatchDF, batchId):\n",
    "    deltaTableOrdersItems = DeltaTable.forPath(spark, ORDERS_PATH)\n",
    "\n",
    "    microBatchDF = microBatchDF.dropDuplicates([\"order_id\"])\n",
    "    (\n",
    "        deltaTableOrdersItems.alias(\"t\")\n",
    "        .merge(\n",
    "            microBatchDF.alias(\"s\"),\n",
    "            \"s.order_id = t.order_id\"\n",
    "        )\n",
    "        .whenMatchedUpdate(\n",
    "            set={\n",
    "                \"status\": f.lit(\"PROCESSING\"),\n",
    "                \"order_timestamp\": f.current_timestamp()\n",
    "            },\n",
    "        )\n",
    "        .execute()\n",
    "    )"
   ]
  },
  {
   "cell_type": "code",
   "execution_count": 75,
   "metadata": {
    "vscode": {
     "languageId": "python_glue_session"
    }
   },
   "outputs": [
    {
     "name": "stdout",
     "output_type": "stream",
     "text": [
      "\n"
     ]
    }
   ],
   "source": [
    "processing_orders_stream = (\n",
    "    df_orders_items_stream#.dropDuplicates([\"order_id\"])\n",
    "    .filter(f.col(\"status\") == f.lit(\"PENDING\"))\n",
    "    # .withColumn(\"status\", f.lit(\"PROCESSING\"))\n",
    "    # .withColumn(\"order_timestamp\", f.current_timestamp())\n",
    "    .select(\n",
    "        f.col(\"order_id\"),\n",
    "        # f.col(\"status\"),\n",
    "        # f.col(\"order_timestamp\")\n",
    "        # f.col(\"product_id\")\n",
    "    )\n",
    "    .writeStream\n",
    "    .format(\"delta\")\n",
    "    .outputMode(\"update\")\n",
    "    .foreachBatch(upsert_to_orders)\n",
    "    .trigger(once=True)\n",
    "    .option(\"path\", ORDERS_PATH)\n",
    "    .option(\"checkpointLocation\", f\"{ORDERS_CHECKPOINT_LOCATION}_processing\")\n",
    "    .start()\n",
    ")"
   ]
  },
  {
   "cell_type": "code",
   "execution_count": 76,
   "metadata": {
    "vscode": {
     "languageId": "python_glue_session"
    }
   },
   "outputs": [
    {
     "name": "stdout",
     "output_type": "stream",
     "text": [
      "True\n"
     ]
    }
   ],
   "source": [
    "processing_orders_stream.isActive"
   ]
  },
  {
   "cell_type": "code",
   "execution_count": 77,
   "metadata": {
    "vscode": {
     "languageId": "plaintext"
    }
   },
   "outputs": [
    {
     "name": "stdout",
     "output_type": "stream",
     "text": [
      "{'message': 'Processing new data', 'isDataAvailable': True, 'isTriggerActive': True}\n"
     ]
    }
   ],
   "source": [
    "processing_orders_stream.status"
   ]
  },
  {
   "cell_type": "code",
   "execution_count": 78,
   "metadata": {
    "vscode": {
     "languageId": "plaintext"
    }
   },
   "outputs": [
    {
     "name": "stdout",
     "output_type": "stream",
     "text": [
      "{'id': '7acb5dc3-4988-4b4b-9840-94ac93700591', 'runId': '6094ffbf-e850-4b27-8089-c967f5c0175b', 'name': None, 'timestamp': '2024-07-26T08:47:18.610Z', 'batchId': 2, 'numInputRows': 16, 'inputRowsPerSecond': 0.0, 'processedRowsPerSecond': 1.8761726078799248, 'durationMs': {'addBatch': 6945, 'getBatch': 3, 'getOffset': 207, 'queryPlanning': 17, 'triggerExecution': 8528, 'walCommit': 584}, 'stateOperators': [], 'sources': [{'description': 'KinesisSource[orders_stream]', 'startOffset': {'metadata': {'streamName': 'orders_stream', 'batchId': '1'}, 'shardId-000000000000': {'iteratorType': 'TRIM_HORIZON', 'iteratorPosition': ''}}, 'endOffset': {'metadata': {'streamName': 'orders_stream', 'batchId': '2'}, 'shardId-000000000000': {'iteratorType': 'AFTER_SEQUENCE_NUMBER', 'iteratorPosition': '49654197460728444292469885729742852246329204371326238722'}}, 'latestOffset': {'metadata': {'streamName': 'orders_stream', 'batchId': '2'}, 'shardId-000000000000': {'iteratorType': 'AFTER_SEQUENCE_NUMBER', 'iteratorPosition': '49654197460728444292469885729742852246329204371326238722'}}, 'numInputRows': 16, 'inputRowsPerSecond': 0.0, 'processedRowsPerSecond': 1.8761726078799248}], 'sink': {'description': 'ForeachBatchSink', 'numOutputRows': -1}}\n"
     ]
    }
   ],
   "source": [
    "processing_orders_stream.lastProgress"
   ]
  },
  {
   "cell_type": "code",
   "execution_count": 79,
   "metadata": {
    "vscode": {
     "languageId": "plaintext"
    }
   },
   "outputs": [
    {
     "name": "stdout",
     "output_type": "stream",
     "text": [
      "+--------------------+--------------------+--------------------+------------------+--------------------+----------+------------------+-------------------+\n",
      "|            order_id|         customer_id|        total_weight|       total_price|     order_timestamp|    status|               lat|                lon|\n",
      "+--------------------+--------------------+--------------------+------------------+--------------------+----------+------------------+-------------------+\n",
      "|ord-5cdce260-6424...|cus-4aa29655-750f...|   9.270000010728836|            193.21|2024-07-26 08:47:...|PROCESSING| 40.46931076049805|-3.7590677738189697|\n",
      "|ord-f367942e-73a1...|cus-293a53e0-2479...|  1.8699999526143074|             76.51|2024-07-26 08:47:...|PROCESSING| 40.47103500366211| -3.703655958175659|\n",
      "|ord-c3b4a348-f185...|cus-3d3eafb5-0ff4...|  0.4099999852478504|             31.47|2024-07-26 08:47:...|PROCESSING| 40.42833709716797|-3.6563467979431152|\n",
      "|ord-bd2f0dc6-b94c...|cus-685b4364-95bf...|  3.4799998998641968|            104.94|2024-07-26 08:47:...|PROCESSING|40.341270446777344|-3.7211179733276367|\n",
      "|ord-f88c3b93-4f28...|cus-35baa105-37fe...|   1.090000033378601|             10.48|2024-07-26 08:47:...|PROCESSING|40.436363220214844| -3.770735263824463|\n",
      "|ord-664677b9-43f7...|cus-80c447f1-7a12...|   5.830000061541796|374.33000000000004|2024-07-26 08:47:...|PROCESSING|40.422794342041016|-3.6932036876678467|\n",
      "|ord-805aa5c5-631f...|cus-c4787d20-aaaf...| 0.05999999865889549|             15.78|2024-07-26 08:47:...|PROCESSING| 40.34938430786133|-3.6611056327819824|\n",
      "|ord-b956fd3f-63bd...|cus-86ddb64c-bbc1...| 0.14000000059604645|             15.19|2024-07-26 08:47:...|PROCESSING| 40.45235824584961|-3.6809637546539307|\n",
      "|ord-e852ba69-6ecd...|cus-75253364-6947...|   1.160000041127205|             54.17|2024-07-25 21:45:...|PROCESSING| 40.36768341064453| -3.753357410430908|\n",
      "|ord-da1fd2fd-840d...|cus-9e734087-531e...|                 4.0|             99.99|2024-07-25 21:45:...|PROCESSING|40.401546478271484| -3.648682117462158|\n",
      "|ord-abbd242f-6ef8...|cus-486cbbf7-464d...|   40.73999975994229| 659.1700000000001|2024-07-25 21:45:...|PROCESSING|  40.3638801574707| -3.796038866043091|\n",
      "|ord-ef46b72f-627b...|cus-a84b31aa-15c4...|  0.5499999895691872|             46.93|2024-07-25 21:45:...|PROCESSING| 40.43939208984375|-3.6928911209106445|\n",
      "|ord-e5b60f72-19df...|cus-4b428a5c-3d8a...| 0.03999999910593033|             28.26|2024-07-25 21:45:...|PROCESSING| 40.39348602294922|-3.7385177612304688|\n",
      "|ord-d726c547-c925...|cus-af6e0b52-c027...|   0.419999985024333|             44.58|2024-07-25 21:45:...|PROCESSING|40.448001861572266| -3.707571268081665|\n",
      "|ord-f7b482c0-8ef4...|cus-05824a8f-ec13...|   7.550000229850411|            431.07|2024-07-25 21:45:...|PROCESSING|40.421051025390625| -3.778550148010254|\n",
      "|ord-68fe415c-21a4...|cus-f11ff692-bf22...|0.019999999552965164|             57.54|2024-07-25 21:45:...|PROCESSING|40.390159606933594| -3.747511625289917|\n",
      "|ord-3a9c47fb-fe10...|cus-8561e6f3-f0e8...|  3.0799999237060547|             28.81|2024-07-25 21:45:...|PROCESSING|40.417572021484375| -3.678561210632324|\n",
      "|ord-3f235839-9683...|cus-4d237bb7-3162...|  0.7199999839067459|52.980000000000004|2024-07-25 21:45:...|PROCESSING|40.387454986572266|-3.6703145503997803|\n",
      "|ord-93a61b00-1a8d...|cus-64fc6a25-0406...|   4.589999973773956|             304.5|2024-07-25 21:45:...|PROCESSING| 40.46472930908203| -3.667452096939087|\n",
      "|ord-607e1a6e-ca8c...|cus-e0124b6b-96f3...|  0.5699999928474426|             47.71|2024-07-25 21:45:...|PROCESSING| 40.36989212036133| -3.691133499145508|\n",
      "+--------------------+--------------------+--------------------+------------------+--------------------+----------+------------------+-------------------+\n",
      "only showing top 20 rows\n"
     ]
    }
   ],
   "source": [
    "(\n",
    "    spark\n",
    "    .read\n",
    "    .format(\"delta\")\n",
    "    .load(ORDERS_PATH)\n",
    "    .orderBy(f.desc(\"order_timestamp\"))\n",
    ").show()"
   ]
  },
  {
   "cell_type": "markdown",
   "metadata": {},
   "source": [
    "## 3.3 Append Events"
   ]
  },
  {
   "cell_type": "code",
   "execution_count": 80,
   "metadata": {},
   "outputs": [
    {
     "name": "stdout",
     "output_type": "stream",
     "text": [
      "<pyspark.sql.streaming.StreamingQuery object at 0x7fc7134cea70>\n"
     ]
    }
   ],
   "source": [
    "# (\n",
    "#     spark\n",
    "#     .readStream\n",
    "#     .format(\"delta\")\n",
    "#     .load(ORDERS_PATH)\n",
    "#     .filter(f.col(\"status\") == f.lit(\"PROCESSING\"))\n",
    "#     .withColumn(\n",
    "#         \"event_id\", f.concat(f.lit(\"ev-\"), f.expr(\"uuid()\"))\n",
    "#     )\n",
    "#     .withColumn(\n",
    "#         \"event_type\", f.lit(\"INVENTORY_UPDATED\")\n",
    "#     )\n",
    "#     .withColumn(\n",
    "#         \"event_timestamp\", f.current_timestamp()\n",
    "#     )\n",
    "#     .select(\n",
    "#         f.col(\"event_id\"),\n",
    "#         f.col(\"event_type\"),\n",
    "#         f.col(\"event_timestamp\"),\n",
    "#         f.col(\"order_id\")\n",
    "#     )\n",
    "#     .writeStream\n",
    "#       .queryName(\"events_query\")\n",
    "#       .format(\"memory\")\n",
    "#       .outputMode(\"append\")\n",
    "#       .start()\n",
    "# )"
   ]
  },
  {
   "cell_type": "code",
   "execution_count": 81,
   "metadata": {},
   "outputs": [
    {
     "name": "stdout",
     "output_type": "stream",
     "text": [
      "+--------------------+-----------------+--------------------+--------------------+\n",
      "|            event_id|       event_type|     event_timestamp|            order_id|\n",
      "+--------------------+-----------------+--------------------+--------------------+\n",
      "|ev-cb947c8f-eb18-...|INVENTORY_UPDATED|2024-07-26 08:49:...|ord-e852ba69-6ecd...|\n",
      "|ev-fad81b5c-3c39-...|INVENTORY_UPDATED|2024-07-26 08:49:...|ord-ef46b72f-627b...|\n",
      "|ev-2d9dc609-c4ce-...|INVENTORY_UPDATED|2024-07-26 08:49:...|ord-3a9c47fb-fe10...|\n",
      "|ev-8293d28d-55d8-...|INVENTORY_UPDATED|2024-07-26 08:49:...|ord-da1fd2fd-840d...|\n",
      "|ev-a92f0c79-69ba-...|INVENTORY_UPDATED|2024-07-26 08:49:...|ord-e5b60f72-19df...|\n",
      "|ev-76214ea5-aaf6-...|INVENTORY_UPDATED|2024-07-26 08:49:...|ord-d726c547-c925...|\n",
      "|ev-6665223c-1463-...|INVENTORY_UPDATED|2024-07-26 08:49:...|ord-3f235839-9683...|\n",
      "|ev-b9b41c19-4408-...|INVENTORY_UPDATED|2024-07-26 08:49:...|ord-abbd242f-6ef8...|\n",
      "|ev-1021f19c-14a9-...|INVENTORY_UPDATED|2024-07-26 08:49:...|ord-f7b482c0-8ef4...|\n",
      "|ev-bbf424b5-3bf6-...|INVENTORY_UPDATED|2024-07-26 08:49:...|ord-68fe415c-21a4...|\n",
      "|ev-5a38d831-748d-...|INVENTORY_UPDATED|2024-07-26 08:49:...|ord-93a61b00-1a8d...|\n",
      "|ev-fbfb2541-5b1d-...|INVENTORY_UPDATED|2024-07-26 08:49:...|ord-607e1a6e-ca8c...|\n",
      "|ev-7599f885-523d-...|INVENTORY_UPDATED|2024-07-26 08:49:...|ord-5cdce260-6424...|\n",
      "|ev-7b5db1af-e3bf-...|INVENTORY_UPDATED|2024-07-26 08:49:...|ord-664677b9-43f7...|\n",
      "|ev-6f5a6564-66c0-...|INVENTORY_UPDATED|2024-07-26 08:49:...|ord-c3b4a348-f185...|\n",
      "|ev-a52cce50-a789-...|INVENTORY_UPDATED|2024-07-26 08:49:...|ord-805aa5c5-631f...|\n",
      "|ev-3ea66593-5e44-...|INVENTORY_UPDATED|2024-07-26 08:49:...|ord-b956fd3f-63bd...|\n",
      "|ev-11c51351-087b-...|INVENTORY_UPDATED|2024-07-26 08:49:...|ord-f367942e-73a1...|\n",
      "|ev-9d072398-ab4f-...|INVENTORY_UPDATED|2024-07-26 08:49:...|ord-bd2f0dc6-b94c...|\n",
      "|ev-39afba0e-77bd-...|INVENTORY_UPDATED|2024-07-26 08:49:...|ord-f88c3b93-4f28...|\n",
      "+--------------------+-----------------+--------------------+--------------------+\n"
     ]
    }
   ],
   "source": [
    "# spark.table(\"events_query\").show()"
   ]
  },
  {
   "cell_type": "code",
   "execution_count": 82,
   "metadata": {
    "vscode": {
     "languageId": "plaintext"
    }
   },
   "outputs": [
    {
     "name": "stdout",
     "output_type": "stream",
     "text": [
      "\n"
     ]
    }
   ],
   "source": [
    "processing_events_stream = (\n",
    "    spark\n",
    "    .readStream\n",
    "    .format(\"delta\")\n",
    "    .load(ORDERS_PATH)\n",
    "    .filter(f.col(\"status\") == f.lit(\"PROCESSING\"))\n",
    "    .withColumn(\n",
    "        \"event_id\", f.concat(f.lit(\"ev-\"), f.expr(\"uuid()\"))\n",
    "    )\n",
    "    .withColumn(\n",
    "        \"event_type\", f.lit(\"INVENTORY_UPDATED\")\n",
    "    )\n",
    "    .withColumn(\n",
    "        \"event_timestamp\", f.current_timestamp()\n",
    "    )\n",
    "    .select(\n",
    "        f.col(\"event_id\"),\n",
    "        f.col(\"event_type\"),\n",
    "        f.col(\"event_timestamp\"),\n",
    "        f.col(\"order_id\")\n",
    "    )\n",
    "    .writeStream\n",
    "    .format(\"delta\")\n",
    "    .outputMode(\"append\")\n",
    "    #.trigger(processingTime=PROCESSING_TRIGGER)\n",
    "    # .trigger(availableNow=True)\n",
    "    .trigger(once=True)\n",
    "    .option(\"path\", EVENTS_PATH)\n",
    "    .option(\"checkpointLocation\", f\"{EVENTS_CHECKPOINT_LOCATION}_processing\")\n",
    "    .start()\n",
    ")"
   ]
  },
  {
   "cell_type": "code",
   "execution_count": 83,
   "metadata": {},
   "outputs": [
    {
     "name": "stdout",
     "output_type": "stream",
     "text": [
      "True\n"
     ]
    }
   ],
   "source": [
    "processing_events_stream.isActive"
   ]
  },
  {
   "cell_type": "code",
   "execution_count": 84,
   "metadata": {},
   "outputs": [
    {
     "name": "stdout",
     "output_type": "stream",
     "text": [
      "{'message': \"Terminated with exception: Detected a data update (for example part-00000-aecccfbb-6659-49e9-a9ce-9445f2513953-c000.snappy.parquet) in the source table at version 16. This is currently not supported. If you'd like to ignore updates, set the option 'ignoreChanges' to 'true'. If you would like the data update to be reflected, please restart this query with a fresh checkpoint directory.\", 'isDataAvailable': False, 'isTriggerActive': False}\n"
     ]
    }
   ],
   "source": [
    "processing_events_stream.status"
   ]
  },
  {
   "cell_type": "code",
   "execution_count": 85,
   "metadata": {},
   "outputs": [
    {
     "name": "stdout",
     "output_type": "stream",
     "text": [
      "\n"
     ]
    }
   ],
   "source": [
    "processing_events_stream.lastProgress"
   ]
  },
  {
   "cell_type": "code",
   "execution_count": 86,
   "metadata": {
    "vscode": {
     "languageId": "plaintext"
    }
   },
   "outputs": [
    {
     "name": "stdout",
     "output_type": "stream",
     "text": [
      "+--------------------+-----------------+--------------------+--------------------+\n",
      "|            event_id|       event_type|     event_timestamp|            order_id|\n",
      "+--------------------+-----------------+--------------------+--------------------+\n",
      "|ev-cce5f790-c6ba-...|INVENTORY_UPDATED|2024-07-26 07:54:...|ord-e852ba69-6ecd...|\n",
      "|ev-9dcde3ff-fdea-...|INVENTORY_UPDATED|2024-07-26 07:54:...|ord-ef46b72f-627b...|\n",
      "|ev-b96f48cf-941d-...|INVENTORY_UPDATED|2024-07-26 07:54:...|ord-3a9c47fb-fe10...|\n",
      "|ev-ef4e8e14-30f2-...|INVENTORY_UPDATED|2024-07-26 07:54:...|ord-da1fd2fd-840d...|\n",
      "|ev-2625c7ea-1554-...|INVENTORY_UPDATED|2024-07-26 07:54:...|ord-e5b60f72-19df...|\n",
      "|ev-af317f1e-4d59-...|INVENTORY_UPDATED|2024-07-26 07:54:...|ord-d726c547-c925...|\n",
      "|ev-7c5297f0-a167-...|INVENTORY_UPDATED|2024-07-26 07:54:...|ord-3f235839-9683...|\n",
      "|ev-24e83b2e-1361-...|INVENTORY_UPDATED|2024-07-26 07:54:...|ord-abbd242f-6ef8...|\n",
      "|ev-744dd1c0-0a6b-...|INVENTORY_UPDATED|2024-07-26 07:54:...|ord-f7b482c0-8ef4...|\n",
      "|ev-227f55bd-36c5-...|INVENTORY_UPDATED|2024-07-26 07:54:...|ord-68fe415c-21a4...|\n",
      "|ev-12f0a94b-2ffb-...|INVENTORY_UPDATED|2024-07-26 07:54:...|ord-93a61b00-1a8d...|\n",
      "|ev-d9119e22-2f06-...|INVENTORY_UPDATED|2024-07-26 07:54:...|ord-607e1a6e-ca8c...|\n",
      "|ev-26f8fe6d-b269-...|    ORDER_CREATED| 2024-07-25 07:59:28|ord-3a9c47fb-fe10...|\n",
      "|ev-5b1db5f1-bddb-...|    ORDER_CREATED| 2024-07-25 07:59:33|ord-e5b60f72-19df...|\n",
      "|ev-1371543c-57fe-...|    ORDER_CREATED| 2024-07-25 07:59:38|ord-e852ba69-6ecd...|\n",
      "+--------------------+-----------------+--------------------+--------------------+\n"
     ]
    }
   ],
   "source": [
    "(\n",
    "    spark\n",
    "    .read\n",
    "    .format(\"delta\")\n",
    "    .load(EVENTS_PATH)\n",
    "    .limit(15)\n",
    ").show()"
   ]
  },
  {
   "cell_type": "markdown",
   "metadata": {},
   "source": [
    "# 4. Write Shipping Stream"
   ]
  },
  {
   "cell_type": "markdown",
   "metadata": {},
   "source": [
    "## 4.1 Get Treshold values"
   ]
  },
  {
   "cell_type": "code",
   "execution_count": 87,
   "metadata": {
    "vscode": {
     "languageId": "plaintext"
    }
   },
   "outputs": [
    {
     "name": "stdout",
     "output_type": "stream",
     "text": [
      "+-----------------+--------------+\n",
      "|     total_weight|total_quantity|\n",
      "+-----------------+--------------+\n",
      "|55.44000001065433|            72|\n",
      "+-----------------+--------------+\n"
     ]
    }
   ],
   "source": [
    "(\n",
    "    spark\n",
    "    .read\n",
    "    .format(\"delta\")\n",
    "    .load(ORDERS_ITEMS_PATH)\n",
    "    .filter(f.col(\"status\") == f.lit(\"PROCESSING\"))\n",
    "    #.groupBy(\"order_id\")\n",
    "    .agg(\n",
    "        f.sum(\"weight\").alias(\"total_weight\"),\n",
    "        f.sum(\"quantity\").alias(\"total_quantity\")\n",
    "    )\n",
    ").show()"
   ]
  },
  {
   "cell_type": "markdown",
   "metadata": {
    "vscode": {
     "languageId": "plaintext"
    }
   },
   "source": [
    "## 4.2 Route Optimizer model"
   ]
  },
  {
   "cell_type": "markdown",
   "metadata": {},
   "source": [
    "## 4.3 Append Shippment"
   ]
  },
  {
   "cell_type": "markdown",
   "metadata": {},
   "source": [
    "## 4.4 Upsert Orders"
   ]
  },
  {
   "cell_type": "markdown",
   "metadata": {},
   "source": [
    "## 4.5 Append Events"
   ]
  },
  {
   "cell_type": "markdown",
   "metadata": {},
   "source": [
    "## OLD TESTS 2"
   ]
  },
  {
   "cell_type": "code",
   "execution_count": 77,
   "metadata": {
    "vscode": {
     "languageId": "python_glue_session"
    }
   },
   "outputs": [
    {
     "name": "stdout",
     "output_type": "stream",
     "text": [
      "\n"
     ]
    }
   ],
   "source": [
    "\n",
    "# # Define the common condition\n",
    "# quantity_condition = f.col(\"products.quantity\") >= f.col(\"orders_items.quantity\")\n",
    "\n",
    "\n",
    "# inventory_stream = (\n",
    "#     df_orders_items_stream\n",
    "#     .alias(\"orders_items\")\n",
    "#     # .withWatermark(\"orders_items.order_date\", \"60 seconds\")\n",
    "#     .join(\n",
    "#         (\n",
    "#             spark\n",
    "#             .readStream\n",
    "#             .format(\"delta\")\n",
    "#             #.option(\"readChangeFeed\", \"true\")\n",
    "#             .load(PRODUCTS_PATH)\n",
    "#             .alias(\"products\")\n",
    "#             # .withWatermark(\"products.updated_at\", \"150 seconds\")\n",
    "#         ),\n",
    "#         on=(\n",
    "#             (f.col(\"orders_items.product_id\") == f.col(\"products.product_id\"))\n",
    "#             # & (f.col(\"orders_items.order_date\").between(\n",
    "#             #     f.expr(\"products.updated_at - interval 30 seconds\"),\n",
    "#             #     f.expr(\"products.updated_at + interval 30 seconds\"))\n",
    "#             # )\n",
    "#         ),\n",
    "#         how=\"inner\"\n",
    "#     )\n",
    "#     .withColumn(\n",
    "#         \"quantity_updated\",\n",
    "#         f.when(quantity_condition, f.col(\"products.quantity\") - f.col(\"orders_items.quantity\"))\n",
    "#          .otherwise(f.col(\"products.quantity\")\n",
    "#         )\n",
    "#     )\n",
    "#     .withColumn(\n",
    "#         \"availability_updated\", f.when(quantity_condition, f.lit(True)).otherwise(f.lit(False)\n",
    "#         )\n",
    "#     )\n",
    "#     .withColumn(\n",
    "#         \"status_updated\", f.when(quantity_condition, f.lit(\"PROCESSING\")).otherwise(f.lit(\"INTERRUPTED\")\n",
    "#         )\n",
    "#     )\n",
    "#     .withColumn(\"partitionKey\", f.col(\"inventory_id\").cast(\"string\"))\n",
    "#     .withColumn(\"data\", f.to_json(\n",
    "#         f.struct(\n",
    "#             f.col(\"orders_items.inventory_id\").alias(\"inventory_id\"), \n",
    "#             f.col(\"orders_items.order_id\").alias(\"order_id\"), \n",
    "#             f.col(\"orders_items.product_id\").alias(\"product_id\"),\n",
    "#             f.col(\"quantity_updated\"),\n",
    "#             f.col(\"status_updated\"),\n",
    "#             f.col(\"availability_updated\"),\n",
    "#         )\n",
    "#     ))\n",
    "#     .select(\"partitionKey\", \"data\")\n",
    "#     .writeStream\n",
    "#     .format(\"kinesis\")\n",
    "#     .option(\"endpointUrl\", \"https://kinesis.us-east-1.amazonaws.com\")\n",
    "#     .outputMode(\"append\") \n",
    "#     .option(\"streamName\", \"inventory_stream\")\n",
    "#     .option(\"checkpointLocation\", ORDERS_INVENTORY_CHECKPOINT_LOCATION)\n",
    "#     .start()\n",
    "# )"
   ]
  },
  {
   "cell_type": "code",
   "execution_count": 47,
   "metadata": {
    "vscode": {
     "languageId": "python_glue_session"
    }
   },
   "outputs": [
    {
     "name": "stdout",
     "output_type": "stream",
     "text": [
      "\n"
     ]
    }
   ],
   "source": [
    "# # # Define the common condition\n",
    "# quantity_condition = f.col(\"products.quantity\") >= f.col(\"orders_items.quantity\")\n",
    "\n",
    "# df_inventory_test = (\n",
    "#     df_orders_items_stream\n",
    "#     .alias(\"orders_items\")\n",
    "#     # .withWatermark(\"orders_items.order_date\", \"60 seconds\")\n",
    "#     .join(\n",
    "#         (\n",
    "#             spark\n",
    "#             .readStream\n",
    "#             .format(\"delta\")\n",
    "#             #.option(\"readChangeFeed\", \"true\")\n",
    "#             .load(PRODUCTS_PATH)\n",
    "#             .alias(\"products\")\n",
    "#             # .withWatermark(\"products.updated_at\", \"150 seconds\")\n",
    "#         ),\n",
    "#         on=(\n",
    "#             (f.col(\"orders_items.product_id\") == f.col(\"products.product_id\"))\n",
    "#         ),\n",
    "#         how=\"inner\"\n",
    "#     )\n",
    "#     .withColumn(\n",
    "#         \"quantity_updated\",\n",
    "#         f.when(quantity_condition, f.col(\"products.quantity\") - f.col(\"orders_items.quantity\"))\n",
    "#          .otherwise(f.col(\"products.quantity\")\n",
    "#         )\n",
    "#     )\n",
    "#     .withColumn(\n",
    "#         \"availability_updated\", f.when(quantity_condition, f.lit(True)).otherwise(f.lit(False)\n",
    "#         )\n",
    "#     )\n",
    "#     .withColumn(\n",
    "#         \"status_updated\", f.when(quantity_condition, f.lit(\"PROCESSING\")).otherwise(f.lit(\"INTERRUPTED\")\n",
    "#         )\n",
    "#     )\n",
    "#     .select(\n",
    "#         f.col(\"orders_items.inventory_id\").alias(\"inventory_id\"), \n",
    "#         f.col(\"orders_items.order_id\").alias(\"order_id\"), \n",
    "#         f.col(\"orders_items.product_id\").alias(\"product_id\"), \n",
    "#         f.col(\"quantity_updated\"),\n",
    "#         f.col(\"status_updated\"),\n",
    "#         f.col(\"availability_updated\"),\n",
    "#      )\n",
    "# )"
   ]
  },
  {
   "cell_type": "code",
   "execution_count": null,
   "metadata": {
    "vscode": {
     "languageId": "python_glue_session"
    }
   },
   "outputs": [],
   "source": [
    "# (\n",
    "#     df_orders_items_table\n",
    "#     .alias(\"orders_items\")\n",
    "#     .join(\n",
    "#         df_products.alias(\"products\"), \n",
    "#         on=(f.col(\"orders_items.product_id\") == f.col(\"products.product_id\")),\n",
    "#         how=\"left\"\n",
    "#     )\n",
    "#     .withColumn(\"partitionKey\", f.col(\"inventory_id\").cast(\"string\"))\n",
    "#     .withColumn(\"data\", f.to_json(\n",
    "#         f.struct(\n",
    "#             f.col(\"orders_items.inventory_id\").alias(\"inventory_id\"), \n",
    "#             f.col(\"orders_items.order_id\").alias(\"order_id\"), \n",
    "#             f.col(\"orders_items.product_id\").alias(\"product_id\"), \n",
    "#             f.col(\"orders_items.product_name\").alias(\"product_name\"), \n",
    "#             f.col(\"orders_items.quantity\").alias(\"order_quantity\"), \n",
    "#             f.col(\"orders_items.price\").alias(\"price\"), \n",
    "#             f.col(\"orders_items.weight\").alias(\"weight\"),\n",
    "#             f.col(\"orders_items.order_date\").alias(\"order_items\"),\n",
    "#             f.col(\"orders_items.status\").alias(\"status\"),\n",
    "#             f.col(\"products.quantity\").alias(\"stock_quantity\"),\n",
    "#             f.col(\"products.availability\").alias(\"availability\"),\n",
    "#         )\n",
    "#     ))\n",
    "#     .select(\"partitionKey\", \"data\")\n",
    "# ).show()"
   ]
  },
  {
   "cell_type": "code",
   "execution_count": null,
   "metadata": {
    "vscode": {
     "languageId": "python_glue_session"
    }
   },
   "outputs": [],
   "source": [
    "\n",
    "# # Define the common condition\n",
    "# quantity_condition = f.col(\"products.quantity\") >= f.col(\"orders_items.quantity\")\n",
    "\n",
    "\n",
    "# (\n",
    "#     df_orders_items_table\n",
    "#     .alias(\"orders_items\")\n",
    "#     .join(\n",
    "#         df_products.alias(\"products\"), \n",
    "#         on=(f.col(\"orders_items.product_id\") == f.col(\"products.product_id\")),\n",
    "#         how=\"left\"\n",
    "#     )\n",
    "#     .withColumn(\n",
    "#         \"quantity_updated\",\n",
    "#         f.when(quantity_condition, f.col(\"products.quantity\") - f.col(\"orders_items.quantity\"))\n",
    "#          .otherwise(f.col(\"products.quantity\")\n",
    "#         )\n",
    "#     )\n",
    "#     .withColumn(\n",
    "#         \"availability_updated\",\n",
    "#         f.when(quantity_condition, f.lit(True))\n",
    "#          .otherwise(f.lit(False)\n",
    "#         )\n",
    "#     )\n",
    "#     .withColumn(\n",
    "#         \"status_updated\",\n",
    "#         f.when(quantity_condition, f.lit(\"PROCESSING\"))\n",
    "#          .otherwise(f.lit(\"INTERRUPTED\")\n",
    "#         )\n",
    "#     )\n",
    "#     .select(\n",
    "#         f.col(\"orders_items.inventory_id\").alias(\"inventory_id\"), \n",
    "#         f.col(\"orders_items.order_id\").alias(\"order_id\"), \n",
    "#         f.col(\"orders_items.product_id\").alias(\"product_id\"), \n",
    "#         #f.col(\"products.quantity\").alias(\"stock_quantity\"),\n",
    "#         #f.col(\"orders_items.quantity\").alias(\"order_quantity\"),\n",
    "#         f.col(\"quantity_updated\"),\n",
    "#         #f.col(\"orders_items.product_name\").alias(\"product_name\"),\n",
    "#         #f.col(\"orders_items.price\").alias(\"price\"),\n",
    "#         #f.col(\"orders_items.weight\").alias(\"weight\"),\n",
    "#         #f.col(\"orders_items.order_date\").alias(\"order_items\"),\n",
    "#         f.col(\"status_updated\"),\n",
    "#         f.col(\"availability_updated\"),\n",
    "#     )\n",
    "# ).schema"
   ]
  },
  {
   "cell_type": "code",
   "execution_count": null,
   "metadata": {
    "vscode": {
     "languageId": "python_glue_session"
    }
   },
   "outputs": [],
   "source": [
    "\n",
    "# # Define the common condition\n",
    "# quantity_condition = f.col(\"products.quantity\") >= f.col(\"orders_items.quantity\")\n",
    "\n",
    "\n",
    "# (\n",
    "#     df_orders_items_table\n",
    "#     .alias(\"orders_items\")\n",
    "#     .join(\n",
    "#         df_products.alias(\"products\"), \n",
    "#         on=(f.col(\"orders_items.product_id\") == f.col(\"products.product_id\")),\n",
    "#         how=\"left\"\n",
    "#     )\n",
    "#     .withColumn(\n",
    "#         \"quantity_updated\",\n",
    "#         f.when(quantity_condition, f.col(\"products.quantity\") - f.col(\"orders_items.quantity\"))\n",
    "#          .otherwise(f.col(\"products.quantity\")\n",
    "#         )\n",
    "#     )\n",
    "#     .withColumn(\n",
    "#         \"availability_updated\", f.when(quantity_condition, f.lit(True)).otherwise(f.lit(False)\n",
    "#         )\n",
    "#     )\n",
    "#     .withColumn(\n",
    "#         \"status_updated\", f.when(quantity_condition, f.lit(\"PROCESSING\")).otherwise(f.lit(\"INTERRUPTED\")\n",
    "#         )\n",
    "#     )\n",
    "#     .withColumn(\"partitionKey\", f.col(\"inventory_id\").cast(\"string\"))\n",
    "#     .withColumn(\"data\", f.to_json(\n",
    "#         f.struct(\n",
    "#             f.col(\"orders_items.inventory_id\").alias(\"inventory_id\"), \n",
    "#             f.col(\"orders_items.order_id\").alias(\"order_id\"), \n",
    "#             f.col(\"orders_items.product_id\").alias(\"product_id\"),\n",
    "#             f.col(\"quantity_updated\"),\n",
    "#             f.col(\"status_updated\"),\n",
    "#             f.col(\"availability_updated\"),\n",
    "#         )\n",
    "#     ))\n",
    "#     .select(\"partitionKey\", \"data\")\n",
    "# ).show()"
   ]
  },
  {
   "cell_type": "code",
   "execution_count": null,
   "metadata": {
    "vscode": {
     "languageId": "python_glue_session"
    }
   },
   "outputs": [],
   "source": [
    "# (\n",
    "#     df_orders_items_stream\n",
    "#     .alias(\"orders_items\")\n",
    "#     .withWatermark(\"orders_items.order_date\", \"60 seconds\")\n",
    "#     .join(\n",
    "#         (\n",
    "#             spark\n",
    "#             .readStream\n",
    "#             .format(\"delta\")\n",
    "#             .load(PRODUCTS_PATH)\n",
    "#             .alias(\"products\")\n",
    "#             .withWatermark(\"products.updated_at\", \"150 seconds\")\n",
    "#         ),\n",
    "#         on=(\n",
    "#             (f.col(\"orders_items.product_id\") == f.col(\"products.product_id\"))\n",
    "#             & (f.col(\"orders_items.order_date\").between(\n",
    "#                 f.expr(\"products.updated_at - interval 30 seconds\"),\n",
    "#                 f.expr(\"products.updated_at + interval 30 seconds\"))\n",
    "#             )\n",
    "#         ),\n",
    "#         how=\"left_outer\"\n",
    "#     )\n",
    "#     .withColumn(\"partitionKey\", f.col(\"inventory_id\").cast(\"string\"))\n",
    "#     .withColumn(\"data\", f.to_json(\n",
    "#         f.struct(\n",
    "#             f.col(\"orders_items.inventory_id\").alias(\"inventory_id\"), \n",
    "#             f.col(\"orders_items.order_id\").alias(\"order_id\"), \n",
    "#             f.col(\"orders_items.product_id\").alias(\"product_id\"), \n",
    "#             f.col(\"orders_items.product_name\").alias(\"product_name\"), \n",
    "#             f.col(\"orders_items.quantity\").alias(\"order_quantity\"), \n",
    "#             f.col(\"orders_items.price\").alias(\"price\"), \n",
    "#             f.col(\"orders_items.weight\").alias(\"weight\"),\n",
    "#             f.col(\"orders_items.order_date\").alias(\"order_items\"),\n",
    "#             f.col(\"orders_items.status\").alias(\"status\"),\n",
    "#             f.col(\"products.quantity\").alias(\"order_quantity\"),\n",
    "#             f.col(\"products.availability\").alias(\"availability\"),\n",
    "#         )\n",
    "#     ))\n",
    "# )"
   ]
  },
  {
   "cell_type": "code",
   "execution_count": null,
   "metadata": {
    "vscode": {
     "languageId": "python_glue_session"
    }
   },
   "outputs": [],
   "source": [
    "# inventory_stream = (\n",
    "#    df_orders_items_stream\n",
    "#    .withColumn(\"partitionKey\", f.col(\"inventory_id\").cast(\"string\"))\n",
    "#    .writeStream\n",
    "#    .format(\"kinesis\")\n",
    "#    .option(\"endpointUrl\", \"https://kinesis.us-east-1.amazonaws.com\")\n",
    "#    .outputMode(\"append\")\n",
    "#    .trigger(processingTime=PROCESSING_TRIGGER)\n",
    "#    .option(\"streamName\", \"inventory_stream\")\n",
    "#    .option(\"checkpointLocation\", f\"s3://{BUCKET_NAME}/checkpoints/messages-user-stream\")\n",
    "#    .option(\"partitionKey\", \"partitionKey\")\n",
    "#    .start()\n",
    "#)"
   ]
  },
  {
   "cell_type": "markdown",
   "metadata": {},
   "source": [
    "## OLD TESTS 1"
   ]
  },
  {
   "cell_type": "code",
   "execution_count": null,
   "metadata": {
    "vscode": {
     "languageId": "python_glue_session"
    }
   },
   "outputs": [],
   "source": [
    "# ## TBC: trigger integration for watermark\n",
    "# inventory_stream = (\n",
    "#     df_orders_items_stream\n",
    "#     .withColumn(\"partitionKey\", f.col(\"inventory_id\").cast(\"string\"))\n",
    "#     .withColumn(\"data\", f.to_json(\n",
    "#         f.struct(\n",
    "#             f.col(\"inventory_id\"), \n",
    "#             f.col(\"order_id\"), \n",
    "#             f.col(\"product_id\"), \n",
    "#             f.col(\"product_name\"), \n",
    "#             f.col(\"quantity\"), \n",
    "#             f.col(\"price\"), \n",
    "#             f.col(\"weight\"),\n",
    "#             f.col(\"order_date\"),\n",
    "#             f.col(\"status\")\n",
    "#         )\n",
    "#     ))\n",
    "#     .select(\"partitionKey\", \"data\")\n",
    "#     .writeStream\n",
    "#     .format(\"kinesis\")\n",
    "#     .option(\"endpointUrl\", \"https://kinesis.us-east-1.amazonaws.com\")\n",
    "#     .outputMode(\"append\") \n",
    "#     .option(\"streamName\", \"inventory_stream\")\n",
    "#     .option(\"checkpointLocation\", f\"s3://{BUCKET_NAME}/checkpoints/inventory-stream\")\n",
    "#     .start()\n",
    "# )"
   ]
  },
  {
   "cell_type": "code",
   "execution_count": null,
   "metadata": {
    "vscode": {
     "languageId": "python_glue_session"
    }
   },
   "outputs": [],
   "source": [
    "# def upsert_to_inventory(microBatchOutputDF, batchId):\n",
    "\n",
    "#     deltaTable = DeltaTable.forPath(spark, PRODUCTS_PATH)\n",
    "    \n",
    "#     (deltaTable.alias(\"t\")\n",
    "#         .merge(\n",
    "#             microBatchOutputDF.alias(\"s\"),\n",
    "#             \"s.product_id = t.product_id\"\n",
    "#         )\n",
    "#         .whenMatchedUpdate(set={\n",
    "#             # condition=\"t.quantity\" > s.quantity\"\n",
    "#             \"quantity\": f.col(\"t.quantity\") - f.col(\"s.quantity\"),  # Direct string assignment\n",
    "#         })\n",
    "#         .execute()\n",
    "#     )"
   ]
  },
  {
   "cell_type": "code",
   "execution_count": null,
   "metadata": {
    "vscode": {
     "languageId": "python_glue_session"
    }
   },
   "outputs": [],
   "source": [
    "# def upsert_to_orders(microBatchOutputDF, batchId):\n",
    "\n",
    "#     deltaTable = DeltaTable.forPath(spark, ORDERS_PATH)\n",
    "    \n",
    "#     (deltaTable.alias(\"t\")\n",
    "#         .merge(\n",
    "#             microBatchOutputDF.alias(\"s\"),\n",
    "#             \"s.order_id = t.order_id\"\n",
    "#         )\n",
    "#         .whenMatchedUpdate(set={\n",
    "#             # condition=\"t.status\" != VAL '5' DAY)\"\n",
    "#             \"status\": f.when(f.col(\"s.items\") > f.col(\"t.items\"), f.lit(\"PROCESSING\"))\n",
    "#                         .otherwise(f.lit(\"CANCELLED\")),  # Direct string assignment\n",
    "#             \"order_date\": f.current_timestamp() + f.expr(\"INTERVAL 5 minutes\")  # Use expr for date calculation\n",
    "#         })\n",
    "#         .execute()\n",
    "#     )"
   ]
  },
  {
   "cell_type": "code",
   "execution_count": null,
   "metadata": {
    "vscode": {
     "languageId": "python_glue_session"
    }
   },
   "outputs": [],
   "source": [
    "# update_orders_stream = (\n",
    "#     df_order_stream\n",
    "#     .select(\n",
    "#         f.col(\"order_id\"),\n",
    "#         f.col(\"order_details.customer_id\").alias(\"customer_id\"),\n",
    "#         f.col(\"order_details.total_weight\").alias(\"total_weight\"),\n",
    "#         f.col(\"order_details.total_amount\").alias(\"total_price\"),\n",
    "#         f.col(\"order_details.order_date\").alias(\"order_date\"),\n",
    "#         f.col(\"order_details.status\").alias(\"status\"),\n",
    "#         f.col(\"order_details.destination_address.lat\").alias(\"lat\"),\n",
    "#         f.col(\"order_details.destination_address.lon\").alias(\"lon\"),\n",
    "#     )\n",
    "#     .writeStream\n",
    "#     .format(\"delta\")\n",
    "#     .foreachBatch(upsert_to_orders)\n",
    "#     .outputMode(\"update\")\n",
    "#     .option(\"path\", ORDERS_PATH)\n",
    "#     .option(\"checkpointLocation\", f\"s3a://{BUCKET_NAME}/{ORDERS}/{DELTA}/checkpoints/orders_update\")\n",
    "#     .trigger(processingTime=PROCESSING_TRIGGER)\n",
    "#     .start()    \n",
    "# )"
   ]
  },
  {
   "cell_type": "code",
   "execution_count": null,
   "metadata": {
    "vscode": {
     "languageId": "python_glue_session"
    }
   },
   "outputs": [],
   "source": [
    "# (\n",
    "#     spark.table(ORDERS_TABLE)\n",
    "#     .select(f.col(\"status\")).distinct()\n",
    "#     .show()\n",
    "# )"
   ]
  },
  {
   "cell_type": "code",
   "execution_count": null,
   "metadata": {
    "vscode": {
     "languageId": "python_glue_session"
    }
   },
   "outputs": [],
   "source": [
    "# (\n",
    "#     spark\n",
    "#     .read\n",
    "#     .format(\"delta\")\n",
    "#     .load(ORDERS_PATH)\n",
    "#     .filter(f.col(\"status\") != \"PROCESSING\")\n",
    "#     .count()\n",
    "# )"
   ]
  },
  {
   "cell_type": "code",
   "execution_count": null,
   "metadata": {
    "vscode": {
     "languageId": "python_glue_session"
    }
   },
   "outputs": [],
   "source": [
    "# # weight treshold \n",
    "# (\n",
    "#     df_orders_bronze\n",
    "#     .select(\n",
    "#         f.sum(f.col(\"order_details.total_weight\")).alias(\"total_weight\")\n",
    "#     ).collect()[0][\"total_weight\"]\n",
    "# )"
   ]
  },
  {
   "cell_type": "code",
   "execution_count": null,
   "metadata": {
    "vscode": {
     "languageId": "python_glue_session"
    }
   },
   "outputs": [],
   "source": []
  }
 ],
 "metadata": {
  "kernelspec": {
   "display_name": "Python 3 (ipykernel)",
   "language": "python",
   "name": "python3"
  },
  "language_info": {
   "codemirror_mode": {
    "name": "ipython",
    "version": 3
   },
   "file_extension": ".py",
   "mimetype": "text/x-python",
   "name": "python",
   "nbconvert_exporter": "python",
   "pygments_lexer": "ipython3",
   "version": "3.10.11"
  }
 },
 "nbformat": 4,
 "nbformat_minor": 4
}
